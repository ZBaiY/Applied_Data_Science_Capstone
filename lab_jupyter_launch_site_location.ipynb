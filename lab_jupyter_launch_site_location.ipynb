{
  "metadata": {
    "kernelspec": {
      "name": "python",
      "display_name": "Python (Pyodide)",
      "language": "python"
    },
    "language_info": {
      "codemirror_mode": {
        "name": "python",
        "version": 3
      },
      "file_extension": ".py",
      "mimetype": "text/x-python",
      "name": "python",
      "nbconvert_exporter": "python",
      "pygments_lexer": "ipython3",
      "version": "3.8"
    },
    "prev_pub_hash": "0f9db842b41c859223722809f8be602f5df9334348bd206b11e3af58c30eb345"
  },
  "nbformat_minor": 4,
  "nbformat": 4,
  "cells": [
    {
      "cell_type": "markdown",
      "source": "<p style=\"text-align:center\">\n    <a href=\"https://skills.network/?utm_medium=Exinfluencer&utm_source=Exinfluencer&utm_content=000026UJ&utm_term=10006555&utm_id=NA-SkillsNetwork-Channel-SkillsNetworkCoursesIBMDS0321ENSkillsNetwork26802033-2022-01-01\" target=\"_blank\">\n    <img src=\"https://cf-courses-data.s3.us.cloud-object-storage.appdomain.cloud/assets/logos/SN_web_lightmode.png\" width=\"200\" alt=\"Skills Network Logo\">\n    </a>\n</p>\n",
      "metadata": {}
    },
    {
      "cell_type": "markdown",
      "source": "# **Hands-on Lab: Interactive Visual Analytics with Folium**\n",
      "metadata": {}
    },
    {
      "cell_type": "markdown",
      "source": "Estimated time needed: **40** minutes\n",
      "metadata": {}
    },
    {
      "cell_type": "markdown",
      "source": "The launch success rate may depend on many factors such as payload mass, orbit type, and so on. It may also depend on the location and proximities of a launch site, i.e., the initial position of rocket trajectories. Finding an optimal location for building a launch site certainly involves many factors and hopefully we could discover some of the factors by analyzing the existing launch site locations.\n",
      "metadata": {}
    },
    {
      "cell_type": "markdown",
      "source": "In the previous exploratory data analysis labs, you have visualized the SpaceX launch dataset using `matplotlib` and `seaborn` and discovered some preliminary correlations between the launch site and success rates. In this lab, you will be performing more interactive visual analytics using `Folium`.\n",
      "metadata": {}
    },
    {
      "cell_type": "markdown",
      "source": "## Objectives\n",
      "metadata": {}
    },
    {
      "cell_type": "markdown",
      "source": "This lab contains the following tasks:\n\n*   **TASK 1:** Mark all launch sites on a map\n*   **TASK 2:** Mark the success/failed launches for each site on the map\n*   **TASK 3:** Calculate the distances between a launch site to its proximities\n\nAfter completed the above tasks, you should be able to find some geographical patterns about launch sites.\n",
      "metadata": {}
    },
    {
      "cell_type": "markdown",
      "source": "Let's first import required Python packages for this lab:\n",
      "metadata": {}
    },
    {
      "cell_type": "code",
      "source": "import piplite\nawait piplite.install(['folium'])\nawait piplite.install(['pandas'])",
      "metadata": {
        "trusted": true
      },
      "outputs": [],
      "execution_count": 1
    },
    {
      "cell_type": "code",
      "source": "import folium\nimport pandas as pd",
      "metadata": {
        "trusted": true
      },
      "outputs": [],
      "execution_count": 2
    },
    {
      "cell_type": "code",
      "source": "# Import folium MarkerCluster plugin\nfrom folium.plugins import MarkerCluster\n# Import folium MousePosition plugin\nfrom folium.plugins import MousePosition\n# Import folium DivIcon plugin\nfrom folium.features import DivIcon",
      "metadata": {
        "trusted": true
      },
      "outputs": [],
      "execution_count": 3
    },
    {
      "cell_type": "markdown",
      "source": "If you need to refresh your memory about folium, you may download and refer to this previous folium lab:\n",
      "metadata": {}
    },
    {
      "cell_type": "markdown",
      "source": "[Generating Maps with Python](https://cf-courses-data.s3.us.cloud-object-storage.appdomain.cloud/IBMDeveloperSkillsNetwork-DV0101EN-SkillsNetwork/labs/v4/DV0101EN-Exercise-Generating-Maps-in-Python.ipynb)\n",
      "metadata": {}
    },
    {
      "cell_type": "code",
      "source": "## Task 1: Mark all launch sites on a map\n",
      "metadata": {
        "trusted": true
      },
      "outputs": [],
      "execution_count": 4
    },
    {
      "cell_type": "markdown",
      "source": "First, let's try to add each site's location on a map using site's latitude and longitude coordinates\n",
      "metadata": {}
    },
    {
      "cell_type": "markdown",
      "source": "The following dataset with the name `spacex_launch_geo.csv` is an augmented dataset with latitude and longitude added for each site.\n",
      "metadata": {}
    },
    {
      "cell_type": "code",
      "source": "# Download and read the `spacex_launch_geo.csv`\nfrom js import fetch\nimport io\n\nURL = 'https://cf-courses-data.s3.us.cloud-object-storage.appdomain.cloud/IBM-DS0321EN-SkillsNetwork/datasets/spacex_launch_geo.csv'\nresp = await fetch(URL)\nspacex_csv_file = io.BytesIO((await resp.arrayBuffer()).to_py())\nspacex_df=pd.read_csv(spacex_csv_file)",
      "metadata": {
        "trusted": true
      },
      "outputs": [],
      "execution_count": 5
    },
    {
      "cell_type": "markdown",
      "source": "Now, you can take a look at what are the coordinates for each site.\n",
      "metadata": {}
    },
    {
      "cell_type": "code",
      "source": "# Select relevant sub-columns: `Launch Site`, `Lat(Latitude)`, `Long(Longitude)`, `class`\nspacex_df = spacex_df[['Launch Site', 'Lat', 'Long', 'class']]\nlaunch_sites_df = spacex_df.groupby(['Launch Site'], as_index=False).first()\nlaunch_sites_df = launch_sites_df[['Launch Site', 'Lat', 'Long']]\nlaunch_sites_df",
      "metadata": {
        "trusted": true
      },
      "outputs": [
        {
          "execution_count": 6,
          "output_type": "execute_result",
          "data": {
            "text/plain": "    Launch Site        Lat        Long\n0   CCAFS LC-40  28.562302  -80.577356\n1  CCAFS SLC-40  28.563197  -80.576820\n2    KSC LC-39A  28.573255  -80.646895\n3   VAFB SLC-4E  34.632834 -120.610745",
            "text/html": "<div>\n<style scoped>\n    .dataframe tbody tr th:only-of-type {\n        vertical-align: middle;\n    }\n\n    .dataframe tbody tr th {\n        vertical-align: top;\n    }\n\n    .dataframe thead th {\n        text-align: right;\n    }\n</style>\n<table border=\"1\" class=\"dataframe\">\n  <thead>\n    <tr style=\"text-align: right;\">\n      <th></th>\n      <th>Launch Site</th>\n      <th>Lat</th>\n      <th>Long</th>\n    </tr>\n  </thead>\n  <tbody>\n    <tr>\n      <th>0</th>\n      <td>CCAFS LC-40</td>\n      <td>28.562302</td>\n      <td>-80.577356</td>\n    </tr>\n    <tr>\n      <th>1</th>\n      <td>CCAFS SLC-40</td>\n      <td>28.563197</td>\n      <td>-80.576820</td>\n    </tr>\n    <tr>\n      <th>2</th>\n      <td>KSC LC-39A</td>\n      <td>28.573255</td>\n      <td>-80.646895</td>\n    </tr>\n    <tr>\n      <th>3</th>\n      <td>VAFB SLC-4E</td>\n      <td>34.632834</td>\n      <td>-120.610745</td>\n    </tr>\n  </tbody>\n</table>\n</div>"
          },
          "metadata": {}
        }
      ],
      "execution_count": 6
    },
    {
      "cell_type": "markdown",
      "source": "Above coordinates are just plain numbers that can not give you any intuitive insights about where are those launch sites. If you are very good at geography, you can interpret those numbers directly in your mind. If not, that's fine too. Let's visualize those locations by pinning them on a map.\n",
      "metadata": {}
    },
    {
      "cell_type": "markdown",
      "source": "We first need to create a folium `Map` object, with an initial center location to be NASA Johnson Space Center at Houston, Texas.\n",
      "metadata": {}
    },
    {
      "cell_type": "code",
      "source": "# Start location is NASA Johnson Space Center\nnasa_coordinate = [29.559684888503615, -95.0830971930759]\nsite_map = folium.Map(location=nasa_coordinate, zoom_start=10)",
      "metadata": {
        "trusted": true
      },
      "outputs": [],
      "execution_count": 7
    },
    {
      "cell_type": "markdown",
      "source": "We could use `folium.Circle` to add a highlighted circle area with a text label on a specific coordinate. For example,\n",
      "metadata": {}
    },
    {
      "cell_type": "code",
      "source": "# Create a blue circle at NASA Johnson Space Center's coordinate with a popup label showing its name\ncircle = folium.Circle(nasa_coordinate, radius=1000, color='#d35400', fill=True).add_child(folium.Popup('NASA Johnson Space Center'))\n# Create a blue circle at NASA Johnson Space Center's coordinate with a icon showing its name\nmarker = folium.map.Marker(\n    nasa_coordinate,\n    # Create an icon as a text label\n    icon=DivIcon(\n        icon_size=(20,20),\n        icon_anchor=(0,0),\n        html='<div style=\"font-size: 12; color:#d35400;\"><b>%s</b></div>' % 'NASA JSC',\n        )\n    )\nsite_map.add_child(circle)\nsite_map.add_child(marker)",
      "metadata": {
        "trusted": true
      },
      "outputs": [
        {
          "execution_count": 8,
          "output_type": "execute_result",
          "data": {
            "text/plain": "<folium.folium.Map at 0x5e9a9e8>",
            "text/html": "<div style=\"width:100%;\"><div style=\"position:relative;width:100%;height:0;padding-bottom:60%;\"><span style=\"color:#565656\">Make this Notebook Trusted to load map: File -> Trust Notebook</span><iframe srcdoc=\"&lt;!DOCTYPE html&gt;\n&lt;html&gt;\n&lt;head&gt;\n    \n    &lt;meta http-equiv=&quot;content-type&quot; content=&quot;text/html; charset=UTF-8&quot; /&gt;\n    \n        &lt;script&gt;\n            L_NO_TOUCH = false;\n            L_DISABLE_3D = false;\n        &lt;/script&gt;\n    \n    &lt;style&gt;html, body {width: 100%;height: 100%;margin: 0;padding: 0;}&lt;/style&gt;\n    &lt;style&gt;#map {position:absolute;top:0;bottom:0;right:0;left:0;}&lt;/style&gt;\n    &lt;script src=&quot;https://cdn.jsdelivr.net/npm/leaflet@1.9.3/dist/leaflet.js&quot;&gt;&lt;/script&gt;\n    &lt;script src=&quot;https://code.jquery.com/jquery-3.7.1.min.js&quot;&gt;&lt;/script&gt;\n    &lt;script src=&quot;https://cdn.jsdelivr.net/npm/bootstrap@5.2.2/dist/js/bootstrap.bundle.min.js&quot;&gt;&lt;/script&gt;\n    &lt;script src=&quot;https://cdnjs.cloudflare.com/ajax/libs/Leaflet.awesome-markers/2.0.2/leaflet.awesome-markers.js&quot;&gt;&lt;/script&gt;\n    &lt;link rel=&quot;stylesheet&quot; href=&quot;https://cdn.jsdelivr.net/npm/leaflet@1.9.3/dist/leaflet.css&quot;/&gt;\n    &lt;link rel=&quot;stylesheet&quot; href=&quot;https://cdn.jsdelivr.net/npm/bootstrap@5.2.2/dist/css/bootstrap.min.css&quot;/&gt;\n    &lt;link rel=&quot;stylesheet&quot; href=&quot;https://netdna.bootstrapcdn.com/bootstrap/3.0.0/css/bootstrap-glyphicons.css&quot;/&gt;\n    &lt;link rel=&quot;stylesheet&quot; href=&quot;https://cdn.jsdelivr.net/npm/@fortawesome/fontawesome-free@6.2.0/css/all.min.css&quot;/&gt;\n    &lt;link rel=&quot;stylesheet&quot; href=&quot;https://cdnjs.cloudflare.com/ajax/libs/Leaflet.awesome-markers/2.0.2/leaflet.awesome-markers.css&quot;/&gt;\n    &lt;link rel=&quot;stylesheet&quot; href=&quot;https://cdn.jsdelivr.net/gh/python-visualization/folium/folium/templates/leaflet.awesome.rotate.min.css&quot;/&gt;\n    \n            &lt;meta name=&quot;viewport&quot; content=&quot;width=device-width,\n                initial-scale=1.0, maximum-scale=1.0, user-scalable=no&quot; /&gt;\n            &lt;style&gt;\n                #map_3c11d5823b0e5af26d0dc229adce4277 {\n                    position: relative;\n                    width: 100.0%;\n                    height: 100.0%;\n                    left: 0.0%;\n                    top: 0.0%;\n                }\n                .leaflet-container { font-size: 1rem; }\n            &lt;/style&gt;\n        \n&lt;/head&gt;\n&lt;body&gt;\n    \n    \n            &lt;div class=&quot;folium-map&quot; id=&quot;map_3c11d5823b0e5af26d0dc229adce4277&quot; &gt;&lt;/div&gt;\n        \n&lt;/body&gt;\n&lt;script&gt;\n    \n    \n            var map_3c11d5823b0e5af26d0dc229adce4277 = L.map(\n                &quot;map_3c11d5823b0e5af26d0dc229adce4277&quot;,\n                {\n                    center: [29.559684888503615, -95.0830971930759],\n                    crs: L.CRS.EPSG3857,\n                    ...{\n  &quot;zoom&quot;: 10,\n  &quot;zoomControl&quot;: true,\n  &quot;preferCanvas&quot;: false,\n}\n\n                }\n            );\n\n            \n\n        \n    \n            var tile_layer_1bca8e0f8ebbc62279f2ca36b5fa685c = L.tileLayer(\n                &quot;https://tile.openstreetmap.org/{z}/{x}/{y}.png&quot;,\n                {\n  &quot;minZoom&quot;: 0,\n  &quot;maxZoom&quot;: 19,\n  &quot;maxNativeZoom&quot;: 19,\n  &quot;noWrap&quot;: false,\n  &quot;attribution&quot;: &quot;\\u0026copy; \\u003ca href=\\&quot;https://www.openstreetmap.org/copyright\\&quot;\\u003eOpenStreetMap\\u003c/a\\u003e contributors&quot;,\n  &quot;subdomains&quot;: &quot;abc&quot;,\n  &quot;detectRetina&quot;: false,\n  &quot;tms&quot;: false,\n  &quot;opacity&quot;: 1,\n}\n\n            );\n        \n    \n            tile_layer_1bca8e0f8ebbc62279f2ca36b5fa685c.addTo(map_3c11d5823b0e5af26d0dc229adce4277);\n        \n    \n            var circle_88787b2d779853f432462ae4c786631e = L.circle(\n                [29.559684888503615, -95.0830971930759],\n                {&quot;bubblingMouseEvents&quot;: true, &quot;color&quot;: &quot;#d35400&quot;, &quot;dashArray&quot;: null, &quot;dashOffset&quot;: null, &quot;fill&quot;: true, &quot;fillColor&quot;: &quot;#d35400&quot;, &quot;fillOpacity&quot;: 0.2, &quot;fillRule&quot;: &quot;evenodd&quot;, &quot;lineCap&quot;: &quot;round&quot;, &quot;lineJoin&quot;: &quot;round&quot;, &quot;opacity&quot;: 1.0, &quot;radius&quot;: 1000, &quot;stroke&quot;: true, &quot;weight&quot;: 3}\n            ).addTo(map_3c11d5823b0e5af26d0dc229adce4277);\n        \n    \n        var popup_930ed27a555e6825b303e08f62547742 = L.popup({\n  &quot;maxWidth&quot;: &quot;100%&quot;,\n});\n\n        \n            \n                var html_22a089898a6e48043ff35d36d8ab7427 = $(`&lt;div id=&quot;html_22a089898a6e48043ff35d36d8ab7427&quot; style=&quot;width: 100.0%; height: 100.0%;&quot;&gt;NASA Johnson Space Center&lt;/div&gt;`)[0];\n                popup_930ed27a555e6825b303e08f62547742.setContent(html_22a089898a6e48043ff35d36d8ab7427);\n            \n        \n\n        circle_88787b2d779853f432462ae4c786631e.bindPopup(popup_930ed27a555e6825b303e08f62547742)\n        ;\n\n        \n    \n    \n            var marker_1b6d82cc89fc447a977c464ba06feb7d = L.marker(\n                [29.559684888503615, -95.0830971930759],\n                {\n}\n            ).addTo(map_3c11d5823b0e5af26d0dc229adce4277);\n        \n    \n            var div_icon_540882d64ae7d868f0cf2100ffb6ca10 = L.divIcon({\n  &quot;html&quot;: &quot;\\u003cdiv style=\\&quot;font-size: 12; color:#d35400;\\&quot;\\u003e\\u003cb\\u003eNASA JSC\\u003c/b\\u003e\\u003c/div\\u003e&quot;,\n  &quot;iconSize&quot;: [20, 20],\n  &quot;iconAnchor&quot;: [0, 0],\n  &quot;className&quot;: &quot;empty&quot;,\n});\n            marker_1b6d82cc89fc447a977c464ba06feb7d.setIcon(div_icon_540882d64ae7d868f0cf2100ffb6ca10);\n        \n&lt;/script&gt;\n&lt;/html&gt;\" style=\"position:absolute;width:100%;height:100%;left:0;top:0;border:none !important;\" allowfullscreen webkitallowfullscreen mozallowfullscreen></iframe></div></div>"
          },
          "metadata": {}
        }
      ],
      "execution_count": 8
    },
    {
      "cell_type": "markdown",
      "source": "and you should find a small yellow circle near the city of Houston and you can zoom-in to see a larger circle.\n",
      "metadata": {}
    },
    {
      "cell_type": "markdown",
      "source": "Now, let's add a circle for each launch site in data frame `launch_sites`\n",
      "metadata": {}
    },
    {
      "cell_type": "markdown",
      "source": "*TODO:*  Create and add `folium.Circle` and `folium.Marker` for each launch site on the site map\n",
      "metadata": {}
    },
    {
      "cell_type": "markdown",
      "source": "An example of folium.Circle:\n",
      "metadata": {}
    },
    {
      "cell_type": "markdown",
      "source": "`folium.Circle(coordinate, radius=1000, color='#000000', fill=True).add_child(folium.Popup(...))`\n",
      "metadata": {}
    },
    {
      "cell_type": "markdown",
      "source": "An example of folium.Marker:\n",
      "metadata": {}
    },
    {
      "cell_type": "markdown",
      "source": "`folium.map.Marker(coordinate, icon=DivIcon(icon_size=(20,20),icon_anchor=(0,0), html='<div style=\"font-size: 12; color:#d35400;\"><b>%s</b></div>' % 'label', ))`\n",
      "metadata": {}
    },
    {
      "cell_type": "code",
      "source": "# Initial the map\nsite_map = folium.Map(location=nasa_coordinate, zoom_start=5)\n# For each launch site, add a Circle object based on its coordinate (Lat, Long) values. In addition, add Launch site name as a popup label\nfor _, l_site in launch_sites_df.iterrows():\n    marker = folium.map.Marker(\n        [l_site['Lat'],l_site['Long']],\n        # Create an icon as a text label\n        icon=DivIcon(\n            icon_size=(20,20),\n            icon_anchor=(0,0),\n            html='<div style=\"font-size: 12; color:#d35400;\"><b>%s</b></div>' % 'NASA JSC',\n            )\n        )\n    site_map.add_child(circle)\n    site_map.add_child(marker)",
      "metadata": {
        "trusted": true
      },
      "outputs": [],
      "execution_count": 9
    },
    {
      "cell_type": "markdown",
      "source": "The generated map with marked launch sites should look similar to the following:\n",
      "metadata": {}
    },
    {
      "cell_type": "markdown",
      "source": "<center>\n    <img src=\"https://cf-courses-data.s3.us.cloud-object-storage.appdomain.cloud/IBM-DS0321EN-SkillsNetwork/labs/module_3/images/launch_site_markers.png\">\n</center>\n",
      "metadata": {}
    },
    {
      "cell_type": "markdown",
      "source": "Now, you can explore the map by zoom-in/out the marked areas\n, and try to answer the following questions:\n\n*   Are all launch sites in proximity to the Equator line?\n*   Are all launch sites in very close proximity to the coast?\n\nAlso please try to explain your findings.\n",
      "metadata": {}
    },
    {
      "cell_type": "code",
      "source": "# Task 2: Mark the success/failed launches for each site on the map",
      "metadata": {
        "trusted": true
      },
      "outputs": [],
      "execution_count": 10
    },
    {
      "cell_type": "markdown",
      "source": "Next, let's try to enhance the map by adding the launch outcomes for each site, and see which sites have high success rates.\nRecall that data frame spacex_df has detailed launch records, and the `class` column indicates if this launch was successful or not\n",
      "metadata": {}
    },
    {
      "cell_type": "code",
      "source": "spacex_df.tail(10)",
      "metadata": {
        "trusted": true
      },
      "outputs": [
        {
          "execution_count": 11,
          "output_type": "execute_result",
          "data": {
            "text/plain": "     Launch Site        Lat       Long  class\n46    KSC LC-39A  28.573255 -80.646895      1\n47    KSC LC-39A  28.573255 -80.646895      1\n48    KSC LC-39A  28.573255 -80.646895      1\n49  CCAFS SLC-40  28.563197 -80.576820      1\n50  CCAFS SLC-40  28.563197 -80.576820      1\n51  CCAFS SLC-40  28.563197 -80.576820      0\n52  CCAFS SLC-40  28.563197 -80.576820      0\n53  CCAFS SLC-40  28.563197 -80.576820      0\n54  CCAFS SLC-40  28.563197 -80.576820      1\n55  CCAFS SLC-40  28.563197 -80.576820      0",
            "text/html": "<div>\n<style scoped>\n    .dataframe tbody tr th:only-of-type {\n        vertical-align: middle;\n    }\n\n    .dataframe tbody tr th {\n        vertical-align: top;\n    }\n\n    .dataframe thead th {\n        text-align: right;\n    }\n</style>\n<table border=\"1\" class=\"dataframe\">\n  <thead>\n    <tr style=\"text-align: right;\">\n      <th></th>\n      <th>Launch Site</th>\n      <th>Lat</th>\n      <th>Long</th>\n      <th>class</th>\n    </tr>\n  </thead>\n  <tbody>\n    <tr>\n      <th>46</th>\n      <td>KSC LC-39A</td>\n      <td>28.573255</td>\n      <td>-80.646895</td>\n      <td>1</td>\n    </tr>\n    <tr>\n      <th>47</th>\n      <td>KSC LC-39A</td>\n      <td>28.573255</td>\n      <td>-80.646895</td>\n      <td>1</td>\n    </tr>\n    <tr>\n      <th>48</th>\n      <td>KSC LC-39A</td>\n      <td>28.573255</td>\n      <td>-80.646895</td>\n      <td>1</td>\n    </tr>\n    <tr>\n      <th>49</th>\n      <td>CCAFS SLC-40</td>\n      <td>28.563197</td>\n      <td>-80.576820</td>\n      <td>1</td>\n    </tr>\n    <tr>\n      <th>50</th>\n      <td>CCAFS SLC-40</td>\n      <td>28.563197</td>\n      <td>-80.576820</td>\n      <td>1</td>\n    </tr>\n    <tr>\n      <th>51</th>\n      <td>CCAFS SLC-40</td>\n      <td>28.563197</td>\n      <td>-80.576820</td>\n      <td>0</td>\n    </tr>\n    <tr>\n      <th>52</th>\n      <td>CCAFS SLC-40</td>\n      <td>28.563197</td>\n      <td>-80.576820</td>\n      <td>0</td>\n    </tr>\n    <tr>\n      <th>53</th>\n      <td>CCAFS SLC-40</td>\n      <td>28.563197</td>\n      <td>-80.576820</td>\n      <td>0</td>\n    </tr>\n    <tr>\n      <th>54</th>\n      <td>CCAFS SLC-40</td>\n      <td>28.563197</td>\n      <td>-80.576820</td>\n      <td>1</td>\n    </tr>\n    <tr>\n      <th>55</th>\n      <td>CCAFS SLC-40</td>\n      <td>28.563197</td>\n      <td>-80.576820</td>\n      <td>0</td>\n    </tr>\n  </tbody>\n</table>\n</div>"
          },
          "metadata": {}
        }
      ],
      "execution_count": 11
    },
    {
      "cell_type": "markdown",
      "source": "Next, let's create markers for all launch records.\nIf a launch was successful `(class=1)`, then we use a green marker and if a launch was failed, we use a red marker `(class=0)`\n",
      "metadata": {}
    },
    {
      "cell_type": "markdown",
      "source": "Note that a launch only happens in one of the four launch sites, which means many launch records will have the exact same coordinate. Marker clusters can be a good way to simplify a map containing many markers having the same coordinate.\n",
      "metadata": {}
    },
    {
      "cell_type": "markdown",
      "source": "Let's first create a `MarkerCluster` object\n",
      "metadata": {}
    },
    {
      "cell_type": "code",
      "source": "marker_cluster = MarkerCluster()\n",
      "metadata": {
        "trusted": true
      },
      "outputs": [],
      "execution_count": 12
    },
    {
      "cell_type": "markdown",
      "source": "*TODO:* Create a new column in `spacex_df` dataframe called `marker_color` to store the marker colors based on the `class` value\n",
      "metadata": {}
    },
    {
      "cell_type": "code",
      "source": "suc_df = spacex_df[spacex_df['class']==1]\nfai_df = spacex_df[spacex_df['class']==0]\nsuc_sites_df = suc_df.groupby(['Launch Site'], as_index=False).count()\nsuc_sites_df = suc_sites_df[['Launch Site', 'Lat', 'Long']]\nfai_sites_df = fai_df.groupby(['Launch Site'], as_index=False).count()\nfai_sites_df = fai_sites_df[['Launch Site', 'Lat', 'Long']]\n# Iterate over the success sites\n\n# Apply a function to check the value of `class` column\n# If class=1, marker_color value will be green\n# If class=0, marker_color value will be red\n",
      "metadata": {
        "trusted": true
      },
      "outputs": [],
      "execution_count": 13
    },
    {
      "cell_type": "markdown",
      "source": "*TODO:* For each launch result in `spacex_df` data frame, add a `folium.Marker` to `marker_cluster`\n",
      "metadata": {}
    },
    {
      "cell_type": "code",
      "source": "# Add marker_cluster to current site_map\nsite_map.add_child(marker_cluster)\nfor _, row in suc_sites_df.iterrows():\n    # Assign a green marker color for successful sites\n    folium.Marker(\n        location=[row['Lat'], row['Long']],\n        popup=row['Launch Site'],\n        icon=folium.Icon(color='green')\n    ).add_to(marker_cluster)\n\n# Iterate over the failure sites\nfor _, row in fai_sites_df.iterrows():\n    # Assign a red marker color for failure sites\n    folium.Marker(\n        location=[row['Lat'], row['Long']],\n        popup=row['Launch Site'],\n        icon=folium.Icon(color='red')\n    ).add_to(marker_cluster)\n\n# # for each row in spacex_df data frame\n# # create a Marker object with its coordinate\n# # and customize the Marker's icon property to indicate if this launch was successed or failed, \n# # e.g., icon=folium.Icon(color='white', icon_color=row['marker_color']\n# for index, record in spacex_df.iterrows():\n#     # TODO: Create and add a Marker cluster to the site map\n#     # marker = folium.Marker(...)\n#     marker_cluster.add_child(marker)\n\nsite_map",
      "metadata": {
        "trusted": true
      },
      "outputs": [
        {
          "execution_count": 14,
          "output_type": "execute_result",
          "data": {
            "text/plain": "<folium.folium.Map at 0x5e30208>",
            "text/html": "<div style=\"width:100%;\"><div style=\"position:relative;width:100%;height:0;padding-bottom:60%;\"><span style=\"color:#565656\">Make this Notebook Trusted to load map: File -> Trust Notebook</span><iframe srcdoc=\"&lt;!DOCTYPE html&gt;\n&lt;html&gt;\n&lt;head&gt;\n    \n    &lt;meta http-equiv=&quot;content-type&quot; content=&quot;text/html; charset=UTF-8&quot; /&gt;\n    \n        &lt;script&gt;\n            L_NO_TOUCH = false;\n            L_DISABLE_3D = false;\n        &lt;/script&gt;\n    \n    &lt;style&gt;html, body {width: 100%;height: 100%;margin: 0;padding: 0;}&lt;/style&gt;\n    &lt;style&gt;#map {position:absolute;top:0;bottom:0;right:0;left:0;}&lt;/style&gt;\n    &lt;script src=&quot;https://cdn.jsdelivr.net/npm/leaflet@1.9.3/dist/leaflet.js&quot;&gt;&lt;/script&gt;\n    &lt;script src=&quot;https://code.jquery.com/jquery-3.7.1.min.js&quot;&gt;&lt;/script&gt;\n    &lt;script src=&quot;https://cdn.jsdelivr.net/npm/bootstrap@5.2.2/dist/js/bootstrap.bundle.min.js&quot;&gt;&lt;/script&gt;\n    &lt;script src=&quot;https://cdnjs.cloudflare.com/ajax/libs/Leaflet.awesome-markers/2.0.2/leaflet.awesome-markers.js&quot;&gt;&lt;/script&gt;\n    &lt;link rel=&quot;stylesheet&quot; href=&quot;https://cdn.jsdelivr.net/npm/leaflet@1.9.3/dist/leaflet.css&quot;/&gt;\n    &lt;link rel=&quot;stylesheet&quot; href=&quot;https://cdn.jsdelivr.net/npm/bootstrap@5.2.2/dist/css/bootstrap.min.css&quot;/&gt;\n    &lt;link rel=&quot;stylesheet&quot; href=&quot;https://netdna.bootstrapcdn.com/bootstrap/3.0.0/css/bootstrap-glyphicons.css&quot;/&gt;\n    &lt;link rel=&quot;stylesheet&quot; href=&quot;https://cdn.jsdelivr.net/npm/@fortawesome/fontawesome-free@6.2.0/css/all.min.css&quot;/&gt;\n    &lt;link rel=&quot;stylesheet&quot; href=&quot;https://cdnjs.cloudflare.com/ajax/libs/Leaflet.awesome-markers/2.0.2/leaflet.awesome-markers.css&quot;/&gt;\n    &lt;link rel=&quot;stylesheet&quot; href=&quot;https://cdn.jsdelivr.net/gh/python-visualization/folium/folium/templates/leaflet.awesome.rotate.min.css&quot;/&gt;\n    \n            &lt;meta name=&quot;viewport&quot; content=&quot;width=device-width,\n                initial-scale=1.0, maximum-scale=1.0, user-scalable=no&quot; /&gt;\n            &lt;style&gt;\n                #map_86f6056452af90b6ea5a27804c681651 {\n                    position: relative;\n                    width: 100.0%;\n                    height: 100.0%;\n                    left: 0.0%;\n                    top: 0.0%;\n                }\n                .leaflet-container { font-size: 1rem; }\n            &lt;/style&gt;\n        \n    &lt;script src=&quot;https://cdnjs.cloudflare.com/ajax/libs/leaflet.markercluster/1.1.0/leaflet.markercluster.js&quot;&gt;&lt;/script&gt;\n    &lt;link rel=&quot;stylesheet&quot; href=&quot;https://cdnjs.cloudflare.com/ajax/libs/leaflet.markercluster/1.1.0/MarkerCluster.css&quot;/&gt;\n    &lt;link rel=&quot;stylesheet&quot; href=&quot;https://cdnjs.cloudflare.com/ajax/libs/leaflet.markercluster/1.1.0/MarkerCluster.Default.css&quot;/&gt;\n&lt;/head&gt;\n&lt;body&gt;\n    \n    \n            &lt;div class=&quot;folium-map&quot; id=&quot;map_86f6056452af90b6ea5a27804c681651&quot; &gt;&lt;/div&gt;\n        \n&lt;/body&gt;\n&lt;script&gt;\n    \n    \n            var map_86f6056452af90b6ea5a27804c681651 = L.map(\n                &quot;map_86f6056452af90b6ea5a27804c681651&quot;,\n                {\n                    center: [29.559684888503615, -95.0830971930759],\n                    crs: L.CRS.EPSG3857,\n                    ...{\n  &quot;zoom&quot;: 5,\n  &quot;zoomControl&quot;: true,\n  &quot;preferCanvas&quot;: false,\n}\n\n                }\n            );\n\n            \n\n        \n    \n            var tile_layer_c1f0b44be55b3c77a6d0bda784e8179d = L.tileLayer(\n                &quot;https://tile.openstreetmap.org/{z}/{x}/{y}.png&quot;,\n                {\n  &quot;minZoom&quot;: 0,\n  &quot;maxZoom&quot;: 19,\n  &quot;maxNativeZoom&quot;: 19,\n  &quot;noWrap&quot;: false,\n  &quot;attribution&quot;: &quot;\\u0026copy; \\u003ca href=\\&quot;https://www.openstreetmap.org/copyright\\&quot;\\u003eOpenStreetMap\\u003c/a\\u003e contributors&quot;,\n  &quot;subdomains&quot;: &quot;abc&quot;,\n  &quot;detectRetina&quot;: false,\n  &quot;tms&quot;: false,\n  &quot;opacity&quot;: 1,\n}\n\n            );\n        \n    \n            tile_layer_c1f0b44be55b3c77a6d0bda784e8179d.addTo(map_86f6056452af90b6ea5a27804c681651);\n        \n    \n            var circle_88787b2d779853f432462ae4c786631e = L.circle(\n                [29.559684888503615, -95.0830971930759],\n                {&quot;bubblingMouseEvents&quot;: true, &quot;color&quot;: &quot;#d35400&quot;, &quot;dashArray&quot;: null, &quot;dashOffset&quot;: null, &quot;fill&quot;: true, &quot;fillColor&quot;: &quot;#d35400&quot;, &quot;fillOpacity&quot;: 0.2, &quot;fillRule&quot;: &quot;evenodd&quot;, &quot;lineCap&quot;: &quot;round&quot;, &quot;lineJoin&quot;: &quot;round&quot;, &quot;opacity&quot;: 1.0, &quot;radius&quot;: 1000, &quot;stroke&quot;: true, &quot;weight&quot;: 3}\n            ).addTo(map_86f6056452af90b6ea5a27804c681651);\n        \n    \n        var popup_930ed27a555e6825b303e08f62547742 = L.popup({\n  &quot;maxWidth&quot;: &quot;100%&quot;,\n});\n\n        \n            \n                var html_22a089898a6e48043ff35d36d8ab7427 = $(`&lt;div id=&quot;html_22a089898a6e48043ff35d36d8ab7427&quot; style=&quot;width: 100.0%; height: 100.0%;&quot;&gt;NASA Johnson Space Center&lt;/div&gt;`)[0];\n                popup_930ed27a555e6825b303e08f62547742.setContent(html_22a089898a6e48043ff35d36d8ab7427);\n            \n        \n\n        circle_88787b2d779853f432462ae4c786631e.bindPopup(popup_930ed27a555e6825b303e08f62547742)\n        ;\n\n        \n    \n    \n            var marker_3f76e705592a52b6cae7b6b665de4588 = L.marker(\n                [28.56230197, -80.57735648],\n                {\n}\n            ).addTo(map_86f6056452af90b6ea5a27804c681651);\n        \n    \n            var div_icon_e303924101407be052632efb23c31339 = L.divIcon({\n  &quot;html&quot;: &quot;\\u003cdiv style=\\&quot;font-size: 12; color:#d35400;\\&quot;\\u003e\\u003cb\\u003eNASA JSC\\u003c/b\\u003e\\u003c/div\\u003e&quot;,\n  &quot;iconSize&quot;: [20, 20],\n  &quot;iconAnchor&quot;: [0, 0],\n  &quot;className&quot;: &quot;empty&quot;,\n});\n            marker_3f76e705592a52b6cae7b6b665de4588.setIcon(div_icon_e303924101407be052632efb23c31339);\n        \n    \n            var marker_ff5e5f8bcdf1ceb8b39830f34d8b0f56 = L.marker(\n                [28.56319718, -80.57682003],\n                {\n}\n            ).addTo(map_86f6056452af90b6ea5a27804c681651);\n        \n    \n            var div_icon_3abb46e9e2a4ac7e80cc840405540fa1 = L.divIcon({\n  &quot;html&quot;: &quot;\\u003cdiv style=\\&quot;font-size: 12; color:#d35400;\\&quot;\\u003e\\u003cb\\u003eNASA JSC\\u003c/b\\u003e\\u003c/div\\u003e&quot;,\n  &quot;iconSize&quot;: [20, 20],\n  &quot;iconAnchor&quot;: [0, 0],\n  &quot;className&quot;: &quot;empty&quot;,\n});\n            marker_ff5e5f8bcdf1ceb8b39830f34d8b0f56.setIcon(div_icon_3abb46e9e2a4ac7e80cc840405540fa1);\n        \n    \n            var marker_0b13781a7370cea4b1e355844d745368 = L.marker(\n                [28.57325457, -80.64689529],\n                {\n}\n            ).addTo(map_86f6056452af90b6ea5a27804c681651);\n        \n    \n            var div_icon_cd7e309e2c366a1139d1899b2d0340ee = L.divIcon({\n  &quot;html&quot;: &quot;\\u003cdiv style=\\&quot;font-size: 12; color:#d35400;\\&quot;\\u003e\\u003cb\\u003eNASA JSC\\u003c/b\\u003e\\u003c/div\\u003e&quot;,\n  &quot;iconSize&quot;: [20, 20],\n  &quot;iconAnchor&quot;: [0, 0],\n  &quot;className&quot;: &quot;empty&quot;,\n});\n            marker_0b13781a7370cea4b1e355844d745368.setIcon(div_icon_cd7e309e2c366a1139d1899b2d0340ee);\n        \n    \n            var marker_a450e18aa39579f56a14a27902eb13f8 = L.marker(\n                [34.63283416, -120.6107455],\n                {\n}\n            ).addTo(map_86f6056452af90b6ea5a27804c681651);\n        \n    \n            var div_icon_e175e7ea3f08020c8370000de3fa8ab8 = L.divIcon({\n  &quot;html&quot;: &quot;\\u003cdiv style=\\&quot;font-size: 12; color:#d35400;\\&quot;\\u003e\\u003cb\\u003eNASA JSC\\u003c/b\\u003e\\u003c/div\\u003e&quot;,\n  &quot;iconSize&quot;: [20, 20],\n  &quot;iconAnchor&quot;: [0, 0],\n  &quot;className&quot;: &quot;empty&quot;,\n});\n            marker_a450e18aa39579f56a14a27902eb13f8.setIcon(div_icon_e175e7ea3f08020c8370000de3fa8ab8);\n        \n    \n            var marker_cluster_0f9b093f844f2cc5899633ba00c38242 = L.markerClusterGroup(\n                {\n}\n            );\n        \n    \n            var marker_c5feddac09d7a0e5bbe1b0e1b6e8a09b = L.marker(\n                [7.0, 7.0],\n                {\n}\n            ).addTo(marker_cluster_0f9b093f844f2cc5899633ba00c38242);\n        \n    \n            var icon_dc42dddcf9ae08cbc382da8bcb00def4 = L.AwesomeMarkers.icon(\n                {\n  &quot;markerColor&quot;: &quot;green&quot;,\n  &quot;iconColor&quot;: &quot;white&quot;,\n  &quot;icon&quot;: &quot;info-sign&quot;,\n  &quot;prefix&quot;: &quot;glyphicon&quot;,\n  &quot;extraClasses&quot;: &quot;fa-rotate-0&quot;,\n}\n            );\n            marker_c5feddac09d7a0e5bbe1b0e1b6e8a09b.setIcon(icon_dc42dddcf9ae08cbc382da8bcb00def4);\n        \n    \n        var popup_e8fdfbaffd0edc77736615f15a0cd0b1 = L.popup({\n  &quot;maxWidth&quot;: &quot;100%&quot;,\n});\n\n        \n            \n                var html_fcafc0fc4446f477dc8d96b717bb018d = $(`&lt;div id=&quot;html_fcafc0fc4446f477dc8d96b717bb018d&quot; style=&quot;width: 100.0%; height: 100.0%;&quot;&gt;CCAFS LC-40&lt;/div&gt;`)[0];\n                popup_e8fdfbaffd0edc77736615f15a0cd0b1.setContent(html_fcafc0fc4446f477dc8d96b717bb018d);\n            \n        \n\n        marker_c5feddac09d7a0e5bbe1b0e1b6e8a09b.bindPopup(popup_e8fdfbaffd0edc77736615f15a0cd0b1)\n        ;\n\n        \n    \n    \n            var marker_797ac71a53f2215b2ea556d8a9b57122 = L.marker(\n                [3.0, 3.0],\n                {\n}\n            ).addTo(marker_cluster_0f9b093f844f2cc5899633ba00c38242);\n        \n    \n            var icon_5d9e92f37904cc8f9f7d2ede39609c72 = L.AwesomeMarkers.icon(\n                {\n  &quot;markerColor&quot;: &quot;green&quot;,\n  &quot;iconColor&quot;: &quot;white&quot;,\n  &quot;icon&quot;: &quot;info-sign&quot;,\n  &quot;prefix&quot;: &quot;glyphicon&quot;,\n  &quot;extraClasses&quot;: &quot;fa-rotate-0&quot;,\n}\n            );\n            marker_797ac71a53f2215b2ea556d8a9b57122.setIcon(icon_5d9e92f37904cc8f9f7d2ede39609c72);\n        \n    \n        var popup_6cbc935c469030a4f6575a850f55dd1e = L.popup({\n  &quot;maxWidth&quot;: &quot;100%&quot;,\n});\n\n        \n            \n                var html_70878eb7f643932c1e82871a90bd3a59 = $(`&lt;div id=&quot;html_70878eb7f643932c1e82871a90bd3a59&quot; style=&quot;width: 100.0%; height: 100.0%;&quot;&gt;CCAFS SLC-40&lt;/div&gt;`)[0];\n                popup_6cbc935c469030a4f6575a850f55dd1e.setContent(html_70878eb7f643932c1e82871a90bd3a59);\n            \n        \n\n        marker_797ac71a53f2215b2ea556d8a9b57122.bindPopup(popup_6cbc935c469030a4f6575a850f55dd1e)\n        ;\n\n        \n    \n    \n            var marker_747922bca7173cb05656713ed5ccbe0b = L.marker(\n                [10.0, 10.0],\n                {\n}\n            ).addTo(marker_cluster_0f9b093f844f2cc5899633ba00c38242);\n        \n    \n            var icon_d0dae6fd04bb109e96c4a2b12de46dba = L.AwesomeMarkers.icon(\n                {\n  &quot;markerColor&quot;: &quot;green&quot;,\n  &quot;iconColor&quot;: &quot;white&quot;,\n  &quot;icon&quot;: &quot;info-sign&quot;,\n  &quot;prefix&quot;: &quot;glyphicon&quot;,\n  &quot;extraClasses&quot;: &quot;fa-rotate-0&quot;,\n}\n            );\n            marker_747922bca7173cb05656713ed5ccbe0b.setIcon(icon_d0dae6fd04bb109e96c4a2b12de46dba);\n        \n    \n        var popup_fa36051544c5e36eee64924c293e541a = L.popup({\n  &quot;maxWidth&quot;: &quot;100%&quot;,\n});\n\n        \n            \n                var html_656d74ad20fcfa911139098e5d19739a = $(`&lt;div id=&quot;html_656d74ad20fcfa911139098e5d19739a&quot; style=&quot;width: 100.0%; height: 100.0%;&quot;&gt;KSC LC-39A&lt;/div&gt;`)[0];\n                popup_fa36051544c5e36eee64924c293e541a.setContent(html_656d74ad20fcfa911139098e5d19739a);\n            \n        \n\n        marker_747922bca7173cb05656713ed5ccbe0b.bindPopup(popup_fa36051544c5e36eee64924c293e541a)\n        ;\n\n        \n    \n    \n            var marker_5a36fe3aa1f2dd910ee782c23efaf6a4 = L.marker(\n                [4.0, 4.0],\n                {\n}\n            ).addTo(marker_cluster_0f9b093f844f2cc5899633ba00c38242);\n        \n    \n            var icon_0431aea4c0c608688ea5bd1956672ce6 = L.AwesomeMarkers.icon(\n                {\n  &quot;markerColor&quot;: &quot;green&quot;,\n  &quot;iconColor&quot;: &quot;white&quot;,\n  &quot;icon&quot;: &quot;info-sign&quot;,\n  &quot;prefix&quot;: &quot;glyphicon&quot;,\n  &quot;extraClasses&quot;: &quot;fa-rotate-0&quot;,\n}\n            );\n            marker_5a36fe3aa1f2dd910ee782c23efaf6a4.setIcon(icon_0431aea4c0c608688ea5bd1956672ce6);\n        \n    \n        var popup_681b285a37a8b6da34b3be935d1ec8bf = L.popup({\n  &quot;maxWidth&quot;: &quot;100%&quot;,\n});\n\n        \n            \n                var html_1706a3b8206435d059d8bf08d049a399 = $(`&lt;div id=&quot;html_1706a3b8206435d059d8bf08d049a399&quot; style=&quot;width: 100.0%; height: 100.0%;&quot;&gt;VAFB SLC-4E&lt;/div&gt;`)[0];\n                popup_681b285a37a8b6da34b3be935d1ec8bf.setContent(html_1706a3b8206435d059d8bf08d049a399);\n            \n        \n\n        marker_5a36fe3aa1f2dd910ee782c23efaf6a4.bindPopup(popup_681b285a37a8b6da34b3be935d1ec8bf)\n        ;\n\n        \n    \n    \n            var marker_b5167cb526f2ac4009a695301a1b1b9d = L.marker(\n                [19.0, 19.0],\n                {\n}\n            ).addTo(marker_cluster_0f9b093f844f2cc5899633ba00c38242);\n        \n    \n            var icon_1c14612c58ec0d3b7dbeffd0cfffa966 = L.AwesomeMarkers.icon(\n                {\n  &quot;markerColor&quot;: &quot;red&quot;,\n  &quot;iconColor&quot;: &quot;white&quot;,\n  &quot;icon&quot;: &quot;info-sign&quot;,\n  &quot;prefix&quot;: &quot;glyphicon&quot;,\n  &quot;extraClasses&quot;: &quot;fa-rotate-0&quot;,\n}\n            );\n            marker_b5167cb526f2ac4009a695301a1b1b9d.setIcon(icon_1c14612c58ec0d3b7dbeffd0cfffa966);\n        \n    \n        var popup_0ea91725985024328dea346fdeb14069 = L.popup({\n  &quot;maxWidth&quot;: &quot;100%&quot;,\n});\n\n        \n            \n                var html_816c831a58a9ecf96bfa9f102e3cd612 = $(`&lt;div id=&quot;html_816c831a58a9ecf96bfa9f102e3cd612&quot; style=&quot;width: 100.0%; height: 100.0%;&quot;&gt;CCAFS LC-40&lt;/div&gt;`)[0];\n                popup_0ea91725985024328dea346fdeb14069.setContent(html_816c831a58a9ecf96bfa9f102e3cd612);\n            \n        \n\n        marker_b5167cb526f2ac4009a695301a1b1b9d.bindPopup(popup_0ea91725985024328dea346fdeb14069)\n        ;\n\n        \n    \n    \n            var marker_41d1e37128e8e85fe757b1f7626578b2 = L.marker(\n                [4.0, 4.0],\n                {\n}\n            ).addTo(marker_cluster_0f9b093f844f2cc5899633ba00c38242);\n        \n    \n            var icon_96c98a057294dd5b29b5a38581ca4974 = L.AwesomeMarkers.icon(\n                {\n  &quot;markerColor&quot;: &quot;red&quot;,\n  &quot;iconColor&quot;: &quot;white&quot;,\n  &quot;icon&quot;: &quot;info-sign&quot;,\n  &quot;prefix&quot;: &quot;glyphicon&quot;,\n  &quot;extraClasses&quot;: &quot;fa-rotate-0&quot;,\n}\n            );\n            marker_41d1e37128e8e85fe757b1f7626578b2.setIcon(icon_96c98a057294dd5b29b5a38581ca4974);\n        \n    \n        var popup_78d2dc83829c3abdd318c109cff6817c = L.popup({\n  &quot;maxWidth&quot;: &quot;100%&quot;,\n});\n\n        \n            \n                var html_366ea2637d385436f2523e065ddfba7d = $(`&lt;div id=&quot;html_366ea2637d385436f2523e065ddfba7d&quot; style=&quot;width: 100.0%; height: 100.0%;&quot;&gt;CCAFS SLC-40&lt;/div&gt;`)[0];\n                popup_78d2dc83829c3abdd318c109cff6817c.setContent(html_366ea2637d385436f2523e065ddfba7d);\n            \n        \n\n        marker_41d1e37128e8e85fe757b1f7626578b2.bindPopup(popup_78d2dc83829c3abdd318c109cff6817c)\n        ;\n\n        \n    \n    \n            var marker_d1e5c0bc4124998fdf3fe9a8eac3d1bc = L.marker(\n                [3.0, 3.0],\n                {\n}\n            ).addTo(marker_cluster_0f9b093f844f2cc5899633ba00c38242);\n        \n    \n            var icon_fbc8eca605c7af1d129adda3ebf63d37 = L.AwesomeMarkers.icon(\n                {\n  &quot;markerColor&quot;: &quot;red&quot;,\n  &quot;iconColor&quot;: &quot;white&quot;,\n  &quot;icon&quot;: &quot;info-sign&quot;,\n  &quot;prefix&quot;: &quot;glyphicon&quot;,\n  &quot;extraClasses&quot;: &quot;fa-rotate-0&quot;,\n}\n            );\n            marker_d1e5c0bc4124998fdf3fe9a8eac3d1bc.setIcon(icon_fbc8eca605c7af1d129adda3ebf63d37);\n        \n    \n        var popup_f64ae5109b757ab54f86588944c28aac = L.popup({\n  &quot;maxWidth&quot;: &quot;100%&quot;,\n});\n\n        \n            \n                var html_53e04f5145d7fb920bd3e790ccd5fdd9 = $(`&lt;div id=&quot;html_53e04f5145d7fb920bd3e790ccd5fdd9&quot; style=&quot;width: 100.0%; height: 100.0%;&quot;&gt;KSC LC-39A&lt;/div&gt;`)[0];\n                popup_f64ae5109b757ab54f86588944c28aac.setContent(html_53e04f5145d7fb920bd3e790ccd5fdd9);\n            \n        \n\n        marker_d1e5c0bc4124998fdf3fe9a8eac3d1bc.bindPopup(popup_f64ae5109b757ab54f86588944c28aac)\n        ;\n\n        \n    \n    \n            var marker_62832cdb437961fd89415beea76270c2 = L.marker(\n                [6.0, 6.0],\n                {\n}\n            ).addTo(marker_cluster_0f9b093f844f2cc5899633ba00c38242);\n        \n    \n            var icon_05f35c8dc4af6e936a2ae717cc5a39f2 = L.AwesomeMarkers.icon(\n                {\n  &quot;markerColor&quot;: &quot;red&quot;,\n  &quot;iconColor&quot;: &quot;white&quot;,\n  &quot;icon&quot;: &quot;info-sign&quot;,\n  &quot;prefix&quot;: &quot;glyphicon&quot;,\n  &quot;extraClasses&quot;: &quot;fa-rotate-0&quot;,\n}\n            );\n            marker_62832cdb437961fd89415beea76270c2.setIcon(icon_05f35c8dc4af6e936a2ae717cc5a39f2);\n        \n    \n        var popup_89c25509b459f0bdbb1457668285984b = L.popup({\n  &quot;maxWidth&quot;: &quot;100%&quot;,\n});\n\n        \n            \n                var html_5751c71ec2f8508697615d7cbf272c39 = $(`&lt;div id=&quot;html_5751c71ec2f8508697615d7cbf272c39&quot; style=&quot;width: 100.0%; height: 100.0%;&quot;&gt;VAFB SLC-4E&lt;/div&gt;`)[0];\n                popup_89c25509b459f0bdbb1457668285984b.setContent(html_5751c71ec2f8508697615d7cbf272c39);\n            \n        \n\n        marker_62832cdb437961fd89415beea76270c2.bindPopup(popup_89c25509b459f0bdbb1457668285984b)\n        ;\n\n        \n    \n    \n            marker_cluster_0f9b093f844f2cc5899633ba00c38242.addTo(map_86f6056452af90b6ea5a27804c681651);\n        \n&lt;/script&gt;\n&lt;/html&gt;\" style=\"position:absolute;width:100%;height:100%;left:0;top:0;border:none !important;\" allowfullscreen webkitallowfullscreen mozallowfullscreen></iframe></div></div>"
          },
          "metadata": {}
        }
      ],
      "execution_count": 14
    },
    {
      "cell_type": "markdown",
      "source": "Your updated map may look like the following screenshots:\n",
      "metadata": {}
    },
    {
      "cell_type": "markdown",
      "source": "<center>\n    <img src=\"https://cf-courses-data.s3.us.cloud-object-storage.appdomain.cloud/IBM-DS0321EN-SkillsNetwork/labs/module_3/images/launch_site_marker_cluster.png\">\n</center>\n",
      "metadata": {}
    },
    {
      "cell_type": "markdown",
      "source": "<center>\n    <img src=\"https://cf-courses-data.s3.us.cloud-object-storage.appdomain.cloud/IBM-DS0321EN-SkillsNetwork/labs/module_3/images/launch_site_marker_cluster_zoomed.png\">\n</center>\n",
      "metadata": {}
    },
    {
      "cell_type": "markdown",
      "source": "From the color-labeled markers in marker clusters, you should be able to easily identify which launch sites have relatively high success rates.\n",
      "metadata": {}
    },
    {
      "cell_type": "code",
      "source": "# TASK 3: Calculate the distances between a launch site to its proximities\n",
      "metadata": {},
      "outputs": [],
      "execution_count": null
    },
    {
      "cell_type": "markdown",
      "source": "Next, we need to explore and analyze the proximities of launch sites.\n",
      "metadata": {}
    },
    {
      "cell_type": "markdown",
      "source": "Let's first add a `MousePosition` on the map to get coordinate for a mouse over a point on the map. As such, while you are exploring the map, you can easily find the coordinates of any points of interests (such as railway)\n",
      "metadata": {}
    },
    {
      "cell_type": "code",
      "source": "# Add Mouse Position to get the coordinate (Lat, Long) for a mouse over on the map\nformatter = \"function(num) {return L.Util.formatNum(num, 5);};\"\nmouse_position = MousePosition(\n    position='topright',\n    separator=' Long: ',\n    empty_string='NaN',\n    lng_first=False,\n    num_digits=20,\n    prefix='Lat:',\n    lat_formatter=formatter,\n    lng_formatter=formatter,\n)\n\nsite_map.add_child(mouse_position)\nsite_map",
      "metadata": {
        "trusted": true
      },
      "outputs": [
        {
          "execution_count": 16,
          "output_type": "execute_result",
          "data": {
            "text/plain": "<folium.folium.Map at 0x5e30208>",
            "text/html": "<div style=\"width:100%;\"><div style=\"position:relative;width:100%;height:0;padding-bottom:60%;\"><span style=\"color:#565656\">Make this Notebook Trusted to load map: File -> Trust Notebook</span><iframe srcdoc=\"&lt;!DOCTYPE html&gt;\n&lt;html&gt;\n&lt;head&gt;\n    \n    &lt;meta http-equiv=&quot;content-type&quot; content=&quot;text/html; charset=UTF-8&quot; /&gt;\n    \n        &lt;script&gt;\n            L_NO_TOUCH = false;\n            L_DISABLE_3D = false;\n        &lt;/script&gt;\n    \n    &lt;style&gt;html, body {width: 100%;height: 100%;margin: 0;padding: 0;}&lt;/style&gt;\n    &lt;style&gt;#map {position:absolute;top:0;bottom:0;right:0;left:0;}&lt;/style&gt;\n    &lt;script src=&quot;https://cdn.jsdelivr.net/npm/leaflet@1.9.3/dist/leaflet.js&quot;&gt;&lt;/script&gt;\n    &lt;script src=&quot;https://code.jquery.com/jquery-3.7.1.min.js&quot;&gt;&lt;/script&gt;\n    &lt;script src=&quot;https://cdn.jsdelivr.net/npm/bootstrap@5.2.2/dist/js/bootstrap.bundle.min.js&quot;&gt;&lt;/script&gt;\n    &lt;script src=&quot;https://cdnjs.cloudflare.com/ajax/libs/Leaflet.awesome-markers/2.0.2/leaflet.awesome-markers.js&quot;&gt;&lt;/script&gt;\n    &lt;link rel=&quot;stylesheet&quot; href=&quot;https://cdn.jsdelivr.net/npm/leaflet@1.9.3/dist/leaflet.css&quot;/&gt;\n    &lt;link rel=&quot;stylesheet&quot; href=&quot;https://cdn.jsdelivr.net/npm/bootstrap@5.2.2/dist/css/bootstrap.min.css&quot;/&gt;\n    &lt;link rel=&quot;stylesheet&quot; href=&quot;https://netdna.bootstrapcdn.com/bootstrap/3.0.0/css/bootstrap-glyphicons.css&quot;/&gt;\n    &lt;link rel=&quot;stylesheet&quot; href=&quot;https://cdn.jsdelivr.net/npm/@fortawesome/fontawesome-free@6.2.0/css/all.min.css&quot;/&gt;\n    &lt;link rel=&quot;stylesheet&quot; href=&quot;https://cdnjs.cloudflare.com/ajax/libs/Leaflet.awesome-markers/2.0.2/leaflet.awesome-markers.css&quot;/&gt;\n    &lt;link rel=&quot;stylesheet&quot; href=&quot;https://cdn.jsdelivr.net/gh/python-visualization/folium/folium/templates/leaflet.awesome.rotate.min.css&quot;/&gt;\n    \n            &lt;meta name=&quot;viewport&quot; content=&quot;width=device-width,\n                initial-scale=1.0, maximum-scale=1.0, user-scalable=no&quot; /&gt;\n            &lt;style&gt;\n                #map_86f6056452af90b6ea5a27804c681651 {\n                    position: relative;\n                    width: 100.0%;\n                    height: 100.0%;\n                    left: 0.0%;\n                    top: 0.0%;\n                }\n                .leaflet-container { font-size: 1rem; }\n            &lt;/style&gt;\n        \n    &lt;script src=&quot;https://cdnjs.cloudflare.com/ajax/libs/leaflet.markercluster/1.1.0/leaflet.markercluster.js&quot;&gt;&lt;/script&gt;\n    &lt;link rel=&quot;stylesheet&quot; href=&quot;https://cdnjs.cloudflare.com/ajax/libs/leaflet.markercluster/1.1.0/MarkerCluster.css&quot;/&gt;\n    &lt;link rel=&quot;stylesheet&quot; href=&quot;https://cdnjs.cloudflare.com/ajax/libs/leaflet.markercluster/1.1.0/MarkerCluster.Default.css&quot;/&gt;\n    &lt;script src=&quot;https://cdn.jsdelivr.net/gh/ardhi/Leaflet.MousePosition/src/L.Control.MousePosition.min.js&quot;&gt;&lt;/script&gt;\n    &lt;link rel=&quot;stylesheet&quot; href=&quot;https://cdn.jsdelivr.net/gh/ardhi/Leaflet.MousePosition/src/L.Control.MousePosition.min.css&quot;/&gt;\n&lt;/head&gt;\n&lt;body&gt;\n    \n    \n            &lt;div class=&quot;folium-map&quot; id=&quot;map_86f6056452af90b6ea5a27804c681651&quot; &gt;&lt;/div&gt;\n        \n&lt;/body&gt;\n&lt;script&gt;\n    \n    \n            var map_86f6056452af90b6ea5a27804c681651 = L.map(\n                &quot;map_86f6056452af90b6ea5a27804c681651&quot;,\n                {\n                    center: [29.559684888503615, -95.0830971930759],\n                    crs: L.CRS.EPSG3857,\n                    ...{\n  &quot;zoom&quot;: 5,\n  &quot;zoomControl&quot;: true,\n  &quot;preferCanvas&quot;: false,\n}\n\n                }\n            );\n\n            \n\n        \n    \n            var tile_layer_c1f0b44be55b3c77a6d0bda784e8179d = L.tileLayer(\n                &quot;https://tile.openstreetmap.org/{z}/{x}/{y}.png&quot;,\n                {\n  &quot;minZoom&quot;: 0,\n  &quot;maxZoom&quot;: 19,\n  &quot;maxNativeZoom&quot;: 19,\n  &quot;noWrap&quot;: false,\n  &quot;attribution&quot;: &quot;\\u0026copy; \\u003ca href=\\&quot;https://www.openstreetmap.org/copyright\\&quot;\\u003eOpenStreetMap\\u003c/a\\u003e contributors&quot;,\n  &quot;subdomains&quot;: &quot;abc&quot;,\n  &quot;detectRetina&quot;: false,\n  &quot;tms&quot;: false,\n  &quot;opacity&quot;: 1,\n}\n\n            );\n        \n    \n            tile_layer_c1f0b44be55b3c77a6d0bda784e8179d.addTo(map_86f6056452af90b6ea5a27804c681651);\n        \n    \n            var circle_88787b2d779853f432462ae4c786631e = L.circle(\n                [29.559684888503615, -95.0830971930759],\n                {&quot;bubblingMouseEvents&quot;: true, &quot;color&quot;: &quot;#d35400&quot;, &quot;dashArray&quot;: null, &quot;dashOffset&quot;: null, &quot;fill&quot;: true, &quot;fillColor&quot;: &quot;#d35400&quot;, &quot;fillOpacity&quot;: 0.2, &quot;fillRule&quot;: &quot;evenodd&quot;, &quot;lineCap&quot;: &quot;round&quot;, &quot;lineJoin&quot;: &quot;round&quot;, &quot;opacity&quot;: 1.0, &quot;radius&quot;: 1000, &quot;stroke&quot;: true, &quot;weight&quot;: 3}\n            ).addTo(map_86f6056452af90b6ea5a27804c681651);\n        \n    \n        var popup_930ed27a555e6825b303e08f62547742 = L.popup({\n  &quot;maxWidth&quot;: &quot;100%&quot;,\n});\n\n        \n            \n                var html_22a089898a6e48043ff35d36d8ab7427 = $(`&lt;div id=&quot;html_22a089898a6e48043ff35d36d8ab7427&quot; style=&quot;width: 100.0%; height: 100.0%;&quot;&gt;NASA Johnson Space Center&lt;/div&gt;`)[0];\n                popup_930ed27a555e6825b303e08f62547742.setContent(html_22a089898a6e48043ff35d36d8ab7427);\n            \n        \n\n        circle_88787b2d779853f432462ae4c786631e.bindPopup(popup_930ed27a555e6825b303e08f62547742)\n        ;\n\n        \n    \n    \n            var marker_3f76e705592a52b6cae7b6b665de4588 = L.marker(\n                [28.56230197, -80.57735648],\n                {\n}\n            ).addTo(map_86f6056452af90b6ea5a27804c681651);\n        \n    \n            var div_icon_e303924101407be052632efb23c31339 = L.divIcon({\n  &quot;html&quot;: &quot;\\u003cdiv style=\\&quot;font-size: 12; color:#d35400;\\&quot;\\u003e\\u003cb\\u003eNASA JSC\\u003c/b\\u003e\\u003c/div\\u003e&quot;,\n  &quot;iconSize&quot;: [20, 20],\n  &quot;iconAnchor&quot;: [0, 0],\n  &quot;className&quot;: &quot;empty&quot;,\n});\n            marker_3f76e705592a52b6cae7b6b665de4588.setIcon(div_icon_e303924101407be052632efb23c31339);\n        \n    \n            var marker_ff5e5f8bcdf1ceb8b39830f34d8b0f56 = L.marker(\n                [28.56319718, -80.57682003],\n                {\n}\n            ).addTo(map_86f6056452af90b6ea5a27804c681651);\n        \n    \n            var div_icon_3abb46e9e2a4ac7e80cc840405540fa1 = L.divIcon({\n  &quot;html&quot;: &quot;\\u003cdiv style=\\&quot;font-size: 12; color:#d35400;\\&quot;\\u003e\\u003cb\\u003eNASA JSC\\u003c/b\\u003e\\u003c/div\\u003e&quot;,\n  &quot;iconSize&quot;: [20, 20],\n  &quot;iconAnchor&quot;: [0, 0],\n  &quot;className&quot;: &quot;empty&quot;,\n});\n            marker_ff5e5f8bcdf1ceb8b39830f34d8b0f56.setIcon(div_icon_3abb46e9e2a4ac7e80cc840405540fa1);\n        \n    \n            var marker_0b13781a7370cea4b1e355844d745368 = L.marker(\n                [28.57325457, -80.64689529],\n                {\n}\n            ).addTo(map_86f6056452af90b6ea5a27804c681651);\n        \n    \n            var div_icon_cd7e309e2c366a1139d1899b2d0340ee = L.divIcon({\n  &quot;html&quot;: &quot;\\u003cdiv style=\\&quot;font-size: 12; color:#d35400;\\&quot;\\u003e\\u003cb\\u003eNASA JSC\\u003c/b\\u003e\\u003c/div\\u003e&quot;,\n  &quot;iconSize&quot;: [20, 20],\n  &quot;iconAnchor&quot;: [0, 0],\n  &quot;className&quot;: &quot;empty&quot;,\n});\n            marker_0b13781a7370cea4b1e355844d745368.setIcon(div_icon_cd7e309e2c366a1139d1899b2d0340ee);\n        \n    \n            var marker_a450e18aa39579f56a14a27902eb13f8 = L.marker(\n                [34.63283416, -120.6107455],\n                {\n}\n            ).addTo(map_86f6056452af90b6ea5a27804c681651);\n        \n    \n            var div_icon_e175e7ea3f08020c8370000de3fa8ab8 = L.divIcon({\n  &quot;html&quot;: &quot;\\u003cdiv style=\\&quot;font-size: 12; color:#d35400;\\&quot;\\u003e\\u003cb\\u003eNASA JSC\\u003c/b\\u003e\\u003c/div\\u003e&quot;,\n  &quot;iconSize&quot;: [20, 20],\n  &quot;iconAnchor&quot;: [0, 0],\n  &quot;className&quot;: &quot;empty&quot;,\n});\n            marker_a450e18aa39579f56a14a27902eb13f8.setIcon(div_icon_e175e7ea3f08020c8370000de3fa8ab8);\n        \n    \n            var marker_cluster_0f9b093f844f2cc5899633ba00c38242 = L.markerClusterGroup(\n                {\n}\n            );\n        \n    \n            var marker_c5feddac09d7a0e5bbe1b0e1b6e8a09b = L.marker(\n                [7.0, 7.0],\n                {\n}\n            ).addTo(marker_cluster_0f9b093f844f2cc5899633ba00c38242);\n        \n    \n            var icon_dc42dddcf9ae08cbc382da8bcb00def4 = L.AwesomeMarkers.icon(\n                {\n  &quot;markerColor&quot;: &quot;green&quot;,\n  &quot;iconColor&quot;: &quot;white&quot;,\n  &quot;icon&quot;: &quot;info-sign&quot;,\n  &quot;prefix&quot;: &quot;glyphicon&quot;,\n  &quot;extraClasses&quot;: &quot;fa-rotate-0&quot;,\n}\n            );\n            marker_c5feddac09d7a0e5bbe1b0e1b6e8a09b.setIcon(icon_dc42dddcf9ae08cbc382da8bcb00def4);\n        \n    \n        var popup_e8fdfbaffd0edc77736615f15a0cd0b1 = L.popup({\n  &quot;maxWidth&quot;: &quot;100%&quot;,\n});\n\n        \n            \n                var html_fcafc0fc4446f477dc8d96b717bb018d = $(`&lt;div id=&quot;html_fcafc0fc4446f477dc8d96b717bb018d&quot; style=&quot;width: 100.0%; height: 100.0%;&quot;&gt;CCAFS LC-40&lt;/div&gt;`)[0];\n                popup_e8fdfbaffd0edc77736615f15a0cd0b1.setContent(html_fcafc0fc4446f477dc8d96b717bb018d);\n            \n        \n\n        marker_c5feddac09d7a0e5bbe1b0e1b6e8a09b.bindPopup(popup_e8fdfbaffd0edc77736615f15a0cd0b1)\n        ;\n\n        \n    \n    \n            var marker_797ac71a53f2215b2ea556d8a9b57122 = L.marker(\n                [3.0, 3.0],\n                {\n}\n            ).addTo(marker_cluster_0f9b093f844f2cc5899633ba00c38242);\n        \n    \n            var icon_5d9e92f37904cc8f9f7d2ede39609c72 = L.AwesomeMarkers.icon(\n                {\n  &quot;markerColor&quot;: &quot;green&quot;,\n  &quot;iconColor&quot;: &quot;white&quot;,\n  &quot;icon&quot;: &quot;info-sign&quot;,\n  &quot;prefix&quot;: &quot;glyphicon&quot;,\n  &quot;extraClasses&quot;: &quot;fa-rotate-0&quot;,\n}\n            );\n            marker_797ac71a53f2215b2ea556d8a9b57122.setIcon(icon_5d9e92f37904cc8f9f7d2ede39609c72);\n        \n    \n        var popup_6cbc935c469030a4f6575a850f55dd1e = L.popup({\n  &quot;maxWidth&quot;: &quot;100%&quot;,\n});\n\n        \n            \n                var html_70878eb7f643932c1e82871a90bd3a59 = $(`&lt;div id=&quot;html_70878eb7f643932c1e82871a90bd3a59&quot; style=&quot;width: 100.0%; height: 100.0%;&quot;&gt;CCAFS SLC-40&lt;/div&gt;`)[0];\n                popup_6cbc935c469030a4f6575a850f55dd1e.setContent(html_70878eb7f643932c1e82871a90bd3a59);\n            \n        \n\n        marker_797ac71a53f2215b2ea556d8a9b57122.bindPopup(popup_6cbc935c469030a4f6575a850f55dd1e)\n        ;\n\n        \n    \n    \n            var marker_747922bca7173cb05656713ed5ccbe0b = L.marker(\n                [10.0, 10.0],\n                {\n}\n            ).addTo(marker_cluster_0f9b093f844f2cc5899633ba00c38242);\n        \n    \n            var icon_d0dae6fd04bb109e96c4a2b12de46dba = L.AwesomeMarkers.icon(\n                {\n  &quot;markerColor&quot;: &quot;green&quot;,\n  &quot;iconColor&quot;: &quot;white&quot;,\n  &quot;icon&quot;: &quot;info-sign&quot;,\n  &quot;prefix&quot;: &quot;glyphicon&quot;,\n  &quot;extraClasses&quot;: &quot;fa-rotate-0&quot;,\n}\n            );\n            marker_747922bca7173cb05656713ed5ccbe0b.setIcon(icon_d0dae6fd04bb109e96c4a2b12de46dba);\n        \n    \n        var popup_fa36051544c5e36eee64924c293e541a = L.popup({\n  &quot;maxWidth&quot;: &quot;100%&quot;,\n});\n\n        \n            \n                var html_656d74ad20fcfa911139098e5d19739a = $(`&lt;div id=&quot;html_656d74ad20fcfa911139098e5d19739a&quot; style=&quot;width: 100.0%; height: 100.0%;&quot;&gt;KSC LC-39A&lt;/div&gt;`)[0];\n                popup_fa36051544c5e36eee64924c293e541a.setContent(html_656d74ad20fcfa911139098e5d19739a);\n            \n        \n\n        marker_747922bca7173cb05656713ed5ccbe0b.bindPopup(popup_fa36051544c5e36eee64924c293e541a)\n        ;\n\n        \n    \n    \n            var marker_5a36fe3aa1f2dd910ee782c23efaf6a4 = L.marker(\n                [4.0, 4.0],\n                {\n}\n            ).addTo(marker_cluster_0f9b093f844f2cc5899633ba00c38242);\n        \n    \n            var icon_0431aea4c0c608688ea5bd1956672ce6 = L.AwesomeMarkers.icon(\n                {\n  &quot;markerColor&quot;: &quot;green&quot;,\n  &quot;iconColor&quot;: &quot;white&quot;,\n  &quot;icon&quot;: &quot;info-sign&quot;,\n  &quot;prefix&quot;: &quot;glyphicon&quot;,\n  &quot;extraClasses&quot;: &quot;fa-rotate-0&quot;,\n}\n            );\n            marker_5a36fe3aa1f2dd910ee782c23efaf6a4.setIcon(icon_0431aea4c0c608688ea5bd1956672ce6);\n        \n    \n        var popup_681b285a37a8b6da34b3be935d1ec8bf = L.popup({\n  &quot;maxWidth&quot;: &quot;100%&quot;,\n});\n\n        \n            \n                var html_1706a3b8206435d059d8bf08d049a399 = $(`&lt;div id=&quot;html_1706a3b8206435d059d8bf08d049a399&quot; style=&quot;width: 100.0%; height: 100.0%;&quot;&gt;VAFB SLC-4E&lt;/div&gt;`)[0];\n                popup_681b285a37a8b6da34b3be935d1ec8bf.setContent(html_1706a3b8206435d059d8bf08d049a399);\n            \n        \n\n        marker_5a36fe3aa1f2dd910ee782c23efaf6a4.bindPopup(popup_681b285a37a8b6da34b3be935d1ec8bf)\n        ;\n\n        \n    \n    \n            var marker_b5167cb526f2ac4009a695301a1b1b9d = L.marker(\n                [19.0, 19.0],\n                {\n}\n            ).addTo(marker_cluster_0f9b093f844f2cc5899633ba00c38242);\n        \n    \n            var icon_1c14612c58ec0d3b7dbeffd0cfffa966 = L.AwesomeMarkers.icon(\n                {\n  &quot;markerColor&quot;: &quot;red&quot;,\n  &quot;iconColor&quot;: &quot;white&quot;,\n  &quot;icon&quot;: &quot;info-sign&quot;,\n  &quot;prefix&quot;: &quot;glyphicon&quot;,\n  &quot;extraClasses&quot;: &quot;fa-rotate-0&quot;,\n}\n            );\n            marker_b5167cb526f2ac4009a695301a1b1b9d.setIcon(icon_1c14612c58ec0d3b7dbeffd0cfffa966);\n        \n    \n        var popup_0ea91725985024328dea346fdeb14069 = L.popup({\n  &quot;maxWidth&quot;: &quot;100%&quot;,\n});\n\n        \n            \n                var html_816c831a58a9ecf96bfa9f102e3cd612 = $(`&lt;div id=&quot;html_816c831a58a9ecf96bfa9f102e3cd612&quot; style=&quot;width: 100.0%; height: 100.0%;&quot;&gt;CCAFS LC-40&lt;/div&gt;`)[0];\n                popup_0ea91725985024328dea346fdeb14069.setContent(html_816c831a58a9ecf96bfa9f102e3cd612);\n            \n        \n\n        marker_b5167cb526f2ac4009a695301a1b1b9d.bindPopup(popup_0ea91725985024328dea346fdeb14069)\n        ;\n\n        \n    \n    \n            var marker_41d1e37128e8e85fe757b1f7626578b2 = L.marker(\n                [4.0, 4.0],\n                {\n}\n            ).addTo(marker_cluster_0f9b093f844f2cc5899633ba00c38242);\n        \n    \n            var icon_96c98a057294dd5b29b5a38581ca4974 = L.AwesomeMarkers.icon(\n                {\n  &quot;markerColor&quot;: &quot;red&quot;,\n  &quot;iconColor&quot;: &quot;white&quot;,\n  &quot;icon&quot;: &quot;info-sign&quot;,\n  &quot;prefix&quot;: &quot;glyphicon&quot;,\n  &quot;extraClasses&quot;: &quot;fa-rotate-0&quot;,\n}\n            );\n            marker_41d1e37128e8e85fe757b1f7626578b2.setIcon(icon_96c98a057294dd5b29b5a38581ca4974);\n        \n    \n        var popup_78d2dc83829c3abdd318c109cff6817c = L.popup({\n  &quot;maxWidth&quot;: &quot;100%&quot;,\n});\n\n        \n            \n                var html_366ea2637d385436f2523e065ddfba7d = $(`&lt;div id=&quot;html_366ea2637d385436f2523e065ddfba7d&quot; style=&quot;width: 100.0%; height: 100.0%;&quot;&gt;CCAFS SLC-40&lt;/div&gt;`)[0];\n                popup_78d2dc83829c3abdd318c109cff6817c.setContent(html_366ea2637d385436f2523e065ddfba7d);\n            \n        \n\n        marker_41d1e37128e8e85fe757b1f7626578b2.bindPopup(popup_78d2dc83829c3abdd318c109cff6817c)\n        ;\n\n        \n    \n    \n            var marker_d1e5c0bc4124998fdf3fe9a8eac3d1bc = L.marker(\n                [3.0, 3.0],\n                {\n}\n            ).addTo(marker_cluster_0f9b093f844f2cc5899633ba00c38242);\n        \n    \n            var icon_fbc8eca605c7af1d129adda3ebf63d37 = L.AwesomeMarkers.icon(\n                {\n  &quot;markerColor&quot;: &quot;red&quot;,\n  &quot;iconColor&quot;: &quot;white&quot;,\n  &quot;icon&quot;: &quot;info-sign&quot;,\n  &quot;prefix&quot;: &quot;glyphicon&quot;,\n  &quot;extraClasses&quot;: &quot;fa-rotate-0&quot;,\n}\n            );\n            marker_d1e5c0bc4124998fdf3fe9a8eac3d1bc.setIcon(icon_fbc8eca605c7af1d129adda3ebf63d37);\n        \n    \n        var popup_f64ae5109b757ab54f86588944c28aac = L.popup({\n  &quot;maxWidth&quot;: &quot;100%&quot;,\n});\n\n        \n            \n                var html_53e04f5145d7fb920bd3e790ccd5fdd9 = $(`&lt;div id=&quot;html_53e04f5145d7fb920bd3e790ccd5fdd9&quot; style=&quot;width: 100.0%; height: 100.0%;&quot;&gt;KSC LC-39A&lt;/div&gt;`)[0];\n                popup_f64ae5109b757ab54f86588944c28aac.setContent(html_53e04f5145d7fb920bd3e790ccd5fdd9);\n            \n        \n\n        marker_d1e5c0bc4124998fdf3fe9a8eac3d1bc.bindPopup(popup_f64ae5109b757ab54f86588944c28aac)\n        ;\n\n        \n    \n    \n            var marker_62832cdb437961fd89415beea76270c2 = L.marker(\n                [6.0, 6.0],\n                {\n}\n            ).addTo(marker_cluster_0f9b093f844f2cc5899633ba00c38242);\n        \n    \n            var icon_05f35c8dc4af6e936a2ae717cc5a39f2 = L.AwesomeMarkers.icon(\n                {\n  &quot;markerColor&quot;: &quot;red&quot;,\n  &quot;iconColor&quot;: &quot;white&quot;,\n  &quot;icon&quot;: &quot;info-sign&quot;,\n  &quot;prefix&quot;: &quot;glyphicon&quot;,\n  &quot;extraClasses&quot;: &quot;fa-rotate-0&quot;,\n}\n            );\n            marker_62832cdb437961fd89415beea76270c2.setIcon(icon_05f35c8dc4af6e936a2ae717cc5a39f2);\n        \n    \n        var popup_89c25509b459f0bdbb1457668285984b = L.popup({\n  &quot;maxWidth&quot;: &quot;100%&quot;,\n});\n\n        \n            \n                var html_5751c71ec2f8508697615d7cbf272c39 = $(`&lt;div id=&quot;html_5751c71ec2f8508697615d7cbf272c39&quot; style=&quot;width: 100.0%; height: 100.0%;&quot;&gt;VAFB SLC-4E&lt;/div&gt;`)[0];\n                popup_89c25509b459f0bdbb1457668285984b.setContent(html_5751c71ec2f8508697615d7cbf272c39);\n            \n        \n\n        marker_62832cdb437961fd89415beea76270c2.bindPopup(popup_89c25509b459f0bdbb1457668285984b)\n        ;\n\n        \n    \n    \n            marker_cluster_0f9b093f844f2cc5899633ba00c38242.addTo(map_86f6056452af90b6ea5a27804c681651);\n        \n    \n            tile_layer_c1f0b44be55b3c77a6d0bda784e8179d.addTo(map_86f6056452af90b6ea5a27804c681651);\n        \n    \n            marker_cluster_0f9b093f844f2cc5899633ba00c38242.addTo(map_86f6056452af90b6ea5a27804c681651);\n        \n    \n            var mouse_position_168763c6188edd7e5b440eaef9f4f8d7 = new L.Control.MousePosition(\n                {\n  &quot;position&quot;: &quot;topright&quot;,\n  &quot;separator&quot;: &quot; Long: &quot;,\n  &quot;emptyString&quot;: &quot;NaN&quot;,\n  &quot;lngFirst&quot;: false,\n  &quot;numDigits&quot;: 20,\n  &quot;prefix&quot;: &quot;Lat:&quot;,\n}\n            );\n            mouse_position_168763c6188edd7e5b440eaef9f4f8d7.options[&quot;latFormatter&quot;] =\n                function(num) {return L.Util.formatNum(num, 5);};;\n            mouse_position_168763c6188edd7e5b440eaef9f4f8d7.options[&quot;lngFormatter&quot;] =\n                function(num) {return L.Util.formatNum(num, 5);};;\n            map_86f6056452af90b6ea5a27804c681651.addControl(mouse_position_168763c6188edd7e5b440eaef9f4f8d7);\n        \n    \n            tile_layer_c1f0b44be55b3c77a6d0bda784e8179d.addTo(map_86f6056452af90b6ea5a27804c681651);\n        \n    \n            marker_cluster_0f9b093f844f2cc5899633ba00c38242.addTo(map_86f6056452af90b6ea5a27804c681651);\n        \n    \n            var mouse_position_d50194747364c23b492174533b9915f9 = new L.Control.MousePosition(\n                {\n  &quot;position&quot;: &quot;topright&quot;,\n  &quot;separator&quot;: &quot; Long: &quot;,\n  &quot;emptyString&quot;: &quot;NaN&quot;,\n  &quot;lngFirst&quot;: false,\n  &quot;numDigits&quot;: 20,\n  &quot;prefix&quot;: &quot;Lat:&quot;,\n}\n            );\n            mouse_position_d50194747364c23b492174533b9915f9.options[&quot;latFormatter&quot;] =\n                function(num) {return L.Util.formatNum(num, 5);};;\n            mouse_position_d50194747364c23b492174533b9915f9.options[&quot;lngFormatter&quot;] =\n                function(num) {return L.Util.formatNum(num, 5);};;\n            map_86f6056452af90b6ea5a27804c681651.addControl(mouse_position_d50194747364c23b492174533b9915f9);\n        \n&lt;/script&gt;\n&lt;/html&gt;\" style=\"position:absolute;width:100%;height:100%;left:0;top:0;border:none !important;\" allowfullscreen webkitallowfullscreen mozallowfullscreen></iframe></div></div>"
          },
          "metadata": {}
        }
      ],
      "execution_count": 16
    },
    {
      "cell_type": "markdown",
      "source": "Now zoom in to a launch site and explore its proximity to see if you can easily find any railway, highway, coastline, etc. Move your mouse to these points and mark down their coordinates (shown on the top-left) in order to the distance to the launch site.\n",
      "metadata": {}
    },
    {
      "cell_type": "markdown",
      "source": "Now zoom in to a launch site and explore its proximity to see if you can easily find any railway, highway, coastline, etc. Move your mouse to these points and mark down their coordinates (shown on the top-left) in order to the distance to the launch site.\n",
      "metadata": {}
    },
    {
      "cell_type": "code",
      "source": "from math import sin, cos, sqrt, atan2, radians\n\ndef calculate_distance(lat1, lon1, lat2, lon2):\n    # approximate radius of earth in km\n    R = 6373.0\n\n    lat1 = radians(lat1)\n    lon1 = radians(lon1)\n    lat2 = radians(lat2)\n    lon2 = radians(lon2)\n\n    dlon = lon2 - lon1\n    dlat = lat2 - lat1\n\n    a = sin(dlat / 2)**2 + cos(lat1) * cos(lat2) * sin(dlon / 2)**2\n    c = 2 * atan2(sqrt(a), sqrt(1 - a))\n\n    distance = R * c\n    return distance",
      "metadata": {
        "trusted": true
      },
      "outputs": [],
      "execution_count": 17
    },
    {
      "cell_type": "markdown",
      "source": "*TODO:* Mark down a point on the closest coastline using MousePosition and calculate the distance between the coastline point and the launch site.\n",
      "metadata": {}
    },
    {
      "cell_type": "code",
      "source": "# find coordinate of the closet coastline\n# e.g.,: Lat: 28.56367  Lon: -80.57163\n# distance_coastline = calculate_distance(launch_site_lat, launch_site_lon, coastline_lat, coastline_lon)\n# Add the launch site marker\n\n# Iterate over the success sites DataFrame\nfor _, row in suc_sites_df.iterrows():\n    # Assign a green marker color for successful sites\n    folium.Marker(\n        location=[row['Lat'], row['Long']],\n        popup=row['Launch Site'],\n        icon=folium.Icon(color='green')\n    ).add_to(marker_cluster)\n\n# Iterate over the failure sites DataFrame\nfor _, row in fai_sites_df.iterrows():\n    # Assign a red marker color for failure sites\n    folium.Marker(\n        location=[row['Lat'], row['Long']],\n        popup=row['Launch Site'],\n        icon=folium.Icon(color='red')\n    ).add_to(marker_cluster)\n\n# Display the map\nsite_map",
      "metadata": {
        "trusted": true
      },
      "outputs": [
        {
          "execution_count": 20,
          "output_type": "execute_result",
          "data": {
            "text/plain": "<folium.folium.Map at 0x5e30208>",
            "text/html": "<div style=\"width:100%;\"><div style=\"position:relative;width:100%;height:0;padding-bottom:60%;\"><span style=\"color:#565656\">Make this Notebook Trusted to load map: File -> Trust Notebook</span><iframe srcdoc=\"&lt;!DOCTYPE html&gt;\n&lt;html&gt;\n&lt;head&gt;\n    \n    &lt;meta http-equiv=&quot;content-type&quot; content=&quot;text/html; charset=UTF-8&quot; /&gt;\n    \n        &lt;script&gt;\n            L_NO_TOUCH = false;\n            L_DISABLE_3D = false;\n        &lt;/script&gt;\n    \n    &lt;style&gt;html, body {width: 100%;height: 100%;margin: 0;padding: 0;}&lt;/style&gt;\n    &lt;style&gt;#map {position:absolute;top:0;bottom:0;right:0;left:0;}&lt;/style&gt;\n    &lt;script src=&quot;https://cdn.jsdelivr.net/npm/leaflet@1.9.3/dist/leaflet.js&quot;&gt;&lt;/script&gt;\n    &lt;script src=&quot;https://code.jquery.com/jquery-3.7.1.min.js&quot;&gt;&lt;/script&gt;\n    &lt;script src=&quot;https://cdn.jsdelivr.net/npm/bootstrap@5.2.2/dist/js/bootstrap.bundle.min.js&quot;&gt;&lt;/script&gt;\n    &lt;script src=&quot;https://cdnjs.cloudflare.com/ajax/libs/Leaflet.awesome-markers/2.0.2/leaflet.awesome-markers.js&quot;&gt;&lt;/script&gt;\n    &lt;link rel=&quot;stylesheet&quot; href=&quot;https://cdn.jsdelivr.net/npm/leaflet@1.9.3/dist/leaflet.css&quot;/&gt;\n    &lt;link rel=&quot;stylesheet&quot; href=&quot;https://cdn.jsdelivr.net/npm/bootstrap@5.2.2/dist/css/bootstrap.min.css&quot;/&gt;\n    &lt;link rel=&quot;stylesheet&quot; href=&quot;https://netdna.bootstrapcdn.com/bootstrap/3.0.0/css/bootstrap-glyphicons.css&quot;/&gt;\n    &lt;link rel=&quot;stylesheet&quot; href=&quot;https://cdn.jsdelivr.net/npm/@fortawesome/fontawesome-free@6.2.0/css/all.min.css&quot;/&gt;\n    &lt;link rel=&quot;stylesheet&quot; href=&quot;https://cdnjs.cloudflare.com/ajax/libs/Leaflet.awesome-markers/2.0.2/leaflet.awesome-markers.css&quot;/&gt;\n    &lt;link rel=&quot;stylesheet&quot; href=&quot;https://cdn.jsdelivr.net/gh/python-visualization/folium/folium/templates/leaflet.awesome.rotate.min.css&quot;/&gt;\n    \n            &lt;meta name=&quot;viewport&quot; content=&quot;width=device-width,\n                initial-scale=1.0, maximum-scale=1.0, user-scalable=no&quot; /&gt;\n            &lt;style&gt;\n                #map_86f6056452af90b6ea5a27804c681651 {\n                    position: relative;\n                    width: 100.0%;\n                    height: 100.0%;\n                    left: 0.0%;\n                    top: 0.0%;\n                }\n                .leaflet-container { font-size: 1rem; }\n            &lt;/style&gt;\n        \n    &lt;script src=&quot;https://cdnjs.cloudflare.com/ajax/libs/leaflet.markercluster/1.1.0/leaflet.markercluster.js&quot;&gt;&lt;/script&gt;\n    &lt;link rel=&quot;stylesheet&quot; href=&quot;https://cdnjs.cloudflare.com/ajax/libs/leaflet.markercluster/1.1.0/MarkerCluster.css&quot;/&gt;\n    &lt;link rel=&quot;stylesheet&quot; href=&quot;https://cdnjs.cloudflare.com/ajax/libs/leaflet.markercluster/1.1.0/MarkerCluster.Default.css&quot;/&gt;\n    &lt;script src=&quot;https://cdn.jsdelivr.net/gh/ardhi/Leaflet.MousePosition/src/L.Control.MousePosition.min.js&quot;&gt;&lt;/script&gt;\n    &lt;link rel=&quot;stylesheet&quot; href=&quot;https://cdn.jsdelivr.net/gh/ardhi/Leaflet.MousePosition/src/L.Control.MousePosition.min.css&quot;/&gt;\n&lt;/head&gt;\n&lt;body&gt;\n    \n    \n            &lt;div class=&quot;folium-map&quot; id=&quot;map_86f6056452af90b6ea5a27804c681651&quot; &gt;&lt;/div&gt;\n        \n&lt;/body&gt;\n&lt;script&gt;\n    \n    \n            var map_86f6056452af90b6ea5a27804c681651 = L.map(\n                &quot;map_86f6056452af90b6ea5a27804c681651&quot;,\n                {\n                    center: [29.559684888503615, -95.0830971930759],\n                    crs: L.CRS.EPSG3857,\n                    ...{\n  &quot;zoom&quot;: 5,\n  &quot;zoomControl&quot;: true,\n  &quot;preferCanvas&quot;: false,\n}\n\n                }\n            );\n\n            \n\n        \n    \n            var tile_layer_c1f0b44be55b3c77a6d0bda784e8179d = L.tileLayer(\n                &quot;https://tile.openstreetmap.org/{z}/{x}/{y}.png&quot;,\n                {\n  &quot;minZoom&quot;: 0,\n  &quot;maxZoom&quot;: 19,\n  &quot;maxNativeZoom&quot;: 19,\n  &quot;noWrap&quot;: false,\n  &quot;attribution&quot;: &quot;\\u0026copy; \\u003ca href=\\&quot;https://www.openstreetmap.org/copyright\\&quot;\\u003eOpenStreetMap\\u003c/a\\u003e contributors&quot;,\n  &quot;subdomains&quot;: &quot;abc&quot;,\n  &quot;detectRetina&quot;: false,\n  &quot;tms&quot;: false,\n  &quot;opacity&quot;: 1,\n}\n\n            );\n        \n    \n            tile_layer_c1f0b44be55b3c77a6d0bda784e8179d.addTo(map_86f6056452af90b6ea5a27804c681651);\n        \n    \n            var circle_88787b2d779853f432462ae4c786631e = L.circle(\n                [29.559684888503615, -95.0830971930759],\n                {&quot;bubblingMouseEvents&quot;: true, &quot;color&quot;: &quot;#d35400&quot;, &quot;dashArray&quot;: null, &quot;dashOffset&quot;: null, &quot;fill&quot;: true, &quot;fillColor&quot;: &quot;#d35400&quot;, &quot;fillOpacity&quot;: 0.2, &quot;fillRule&quot;: &quot;evenodd&quot;, &quot;lineCap&quot;: &quot;round&quot;, &quot;lineJoin&quot;: &quot;round&quot;, &quot;opacity&quot;: 1.0, &quot;radius&quot;: 1000, &quot;stroke&quot;: true, &quot;weight&quot;: 3}\n            ).addTo(map_86f6056452af90b6ea5a27804c681651);\n        \n    \n        var popup_930ed27a555e6825b303e08f62547742 = L.popup({\n  &quot;maxWidth&quot;: &quot;100%&quot;,\n});\n\n        \n            \n                var html_22a089898a6e48043ff35d36d8ab7427 = $(`&lt;div id=&quot;html_22a089898a6e48043ff35d36d8ab7427&quot; style=&quot;width: 100.0%; height: 100.0%;&quot;&gt;NASA Johnson Space Center&lt;/div&gt;`)[0];\n                popup_930ed27a555e6825b303e08f62547742.setContent(html_22a089898a6e48043ff35d36d8ab7427);\n            \n        \n\n        circle_88787b2d779853f432462ae4c786631e.bindPopup(popup_930ed27a555e6825b303e08f62547742)\n        ;\n\n        \n    \n    \n            var marker_3f76e705592a52b6cae7b6b665de4588 = L.marker(\n                [28.56230197, -80.57735648],\n                {\n}\n            ).addTo(map_86f6056452af90b6ea5a27804c681651);\n        \n    \n            var div_icon_e303924101407be052632efb23c31339 = L.divIcon({\n  &quot;html&quot;: &quot;\\u003cdiv style=\\&quot;font-size: 12; color:#d35400;\\&quot;\\u003e\\u003cb\\u003eNASA JSC\\u003c/b\\u003e\\u003c/div\\u003e&quot;,\n  &quot;iconSize&quot;: [20, 20],\n  &quot;iconAnchor&quot;: [0, 0],\n  &quot;className&quot;: &quot;empty&quot;,\n});\n            marker_3f76e705592a52b6cae7b6b665de4588.setIcon(div_icon_e303924101407be052632efb23c31339);\n        \n    \n            var marker_ff5e5f8bcdf1ceb8b39830f34d8b0f56 = L.marker(\n                [28.56319718, -80.57682003],\n                {\n}\n            ).addTo(map_86f6056452af90b6ea5a27804c681651);\n        \n    \n            var div_icon_3abb46e9e2a4ac7e80cc840405540fa1 = L.divIcon({\n  &quot;html&quot;: &quot;\\u003cdiv style=\\&quot;font-size: 12; color:#d35400;\\&quot;\\u003e\\u003cb\\u003eNASA JSC\\u003c/b\\u003e\\u003c/div\\u003e&quot;,\n  &quot;iconSize&quot;: [20, 20],\n  &quot;iconAnchor&quot;: [0, 0],\n  &quot;className&quot;: &quot;empty&quot;,\n});\n            marker_ff5e5f8bcdf1ceb8b39830f34d8b0f56.setIcon(div_icon_3abb46e9e2a4ac7e80cc840405540fa1);\n        \n    \n            var marker_0b13781a7370cea4b1e355844d745368 = L.marker(\n                [28.57325457, -80.64689529],\n                {\n}\n            ).addTo(map_86f6056452af90b6ea5a27804c681651);\n        \n    \n            var div_icon_cd7e309e2c366a1139d1899b2d0340ee = L.divIcon({\n  &quot;html&quot;: &quot;\\u003cdiv style=\\&quot;font-size: 12; color:#d35400;\\&quot;\\u003e\\u003cb\\u003eNASA JSC\\u003c/b\\u003e\\u003c/div\\u003e&quot;,\n  &quot;iconSize&quot;: [20, 20],\n  &quot;iconAnchor&quot;: [0, 0],\n  &quot;className&quot;: &quot;empty&quot;,\n});\n            marker_0b13781a7370cea4b1e355844d745368.setIcon(div_icon_cd7e309e2c366a1139d1899b2d0340ee);\n        \n    \n            var marker_a450e18aa39579f56a14a27902eb13f8 = L.marker(\n                [34.63283416, -120.6107455],\n                {\n}\n            ).addTo(map_86f6056452af90b6ea5a27804c681651);\n        \n    \n            var div_icon_e175e7ea3f08020c8370000de3fa8ab8 = L.divIcon({\n  &quot;html&quot;: &quot;\\u003cdiv style=\\&quot;font-size: 12; color:#d35400;\\&quot;\\u003e\\u003cb\\u003eNASA JSC\\u003c/b\\u003e\\u003c/div\\u003e&quot;,\n  &quot;iconSize&quot;: [20, 20],\n  &quot;iconAnchor&quot;: [0, 0],\n  &quot;className&quot;: &quot;empty&quot;,\n});\n            marker_a450e18aa39579f56a14a27902eb13f8.setIcon(div_icon_e175e7ea3f08020c8370000de3fa8ab8);\n        \n    \n            var marker_cluster_0f9b093f844f2cc5899633ba00c38242 = L.markerClusterGroup(\n                {\n}\n            );\n        \n    \n            var marker_c5feddac09d7a0e5bbe1b0e1b6e8a09b = L.marker(\n                [7.0, 7.0],\n                {\n}\n            ).addTo(marker_cluster_0f9b093f844f2cc5899633ba00c38242);\n        \n    \n            var icon_dc42dddcf9ae08cbc382da8bcb00def4 = L.AwesomeMarkers.icon(\n                {\n  &quot;markerColor&quot;: &quot;green&quot;,\n  &quot;iconColor&quot;: &quot;white&quot;,\n  &quot;icon&quot;: &quot;info-sign&quot;,\n  &quot;prefix&quot;: &quot;glyphicon&quot;,\n  &quot;extraClasses&quot;: &quot;fa-rotate-0&quot;,\n}\n            );\n            marker_c5feddac09d7a0e5bbe1b0e1b6e8a09b.setIcon(icon_dc42dddcf9ae08cbc382da8bcb00def4);\n        \n    \n        var popup_e8fdfbaffd0edc77736615f15a0cd0b1 = L.popup({\n  &quot;maxWidth&quot;: &quot;100%&quot;,\n});\n\n        \n            \n                var html_fcafc0fc4446f477dc8d96b717bb018d = $(`&lt;div id=&quot;html_fcafc0fc4446f477dc8d96b717bb018d&quot; style=&quot;width: 100.0%; height: 100.0%;&quot;&gt;CCAFS LC-40&lt;/div&gt;`)[0];\n                popup_e8fdfbaffd0edc77736615f15a0cd0b1.setContent(html_fcafc0fc4446f477dc8d96b717bb018d);\n            \n        \n\n        marker_c5feddac09d7a0e5bbe1b0e1b6e8a09b.bindPopup(popup_e8fdfbaffd0edc77736615f15a0cd0b1)\n        ;\n\n        \n    \n    \n            var marker_797ac71a53f2215b2ea556d8a9b57122 = L.marker(\n                [3.0, 3.0],\n                {\n}\n            ).addTo(marker_cluster_0f9b093f844f2cc5899633ba00c38242);\n        \n    \n            var icon_5d9e92f37904cc8f9f7d2ede39609c72 = L.AwesomeMarkers.icon(\n                {\n  &quot;markerColor&quot;: &quot;green&quot;,\n  &quot;iconColor&quot;: &quot;white&quot;,\n  &quot;icon&quot;: &quot;info-sign&quot;,\n  &quot;prefix&quot;: &quot;glyphicon&quot;,\n  &quot;extraClasses&quot;: &quot;fa-rotate-0&quot;,\n}\n            );\n            marker_797ac71a53f2215b2ea556d8a9b57122.setIcon(icon_5d9e92f37904cc8f9f7d2ede39609c72);\n        \n    \n        var popup_6cbc935c469030a4f6575a850f55dd1e = L.popup({\n  &quot;maxWidth&quot;: &quot;100%&quot;,\n});\n\n        \n            \n                var html_70878eb7f643932c1e82871a90bd3a59 = $(`&lt;div id=&quot;html_70878eb7f643932c1e82871a90bd3a59&quot; style=&quot;width: 100.0%; height: 100.0%;&quot;&gt;CCAFS SLC-40&lt;/div&gt;`)[0];\n                popup_6cbc935c469030a4f6575a850f55dd1e.setContent(html_70878eb7f643932c1e82871a90bd3a59);\n            \n        \n\n        marker_797ac71a53f2215b2ea556d8a9b57122.bindPopup(popup_6cbc935c469030a4f6575a850f55dd1e)\n        ;\n\n        \n    \n    \n            var marker_747922bca7173cb05656713ed5ccbe0b = L.marker(\n                [10.0, 10.0],\n                {\n}\n            ).addTo(marker_cluster_0f9b093f844f2cc5899633ba00c38242);\n        \n    \n            var icon_d0dae6fd04bb109e96c4a2b12de46dba = L.AwesomeMarkers.icon(\n                {\n  &quot;markerColor&quot;: &quot;green&quot;,\n  &quot;iconColor&quot;: &quot;white&quot;,\n  &quot;icon&quot;: &quot;info-sign&quot;,\n  &quot;prefix&quot;: &quot;glyphicon&quot;,\n  &quot;extraClasses&quot;: &quot;fa-rotate-0&quot;,\n}\n            );\n            marker_747922bca7173cb05656713ed5ccbe0b.setIcon(icon_d0dae6fd04bb109e96c4a2b12de46dba);\n        \n    \n        var popup_fa36051544c5e36eee64924c293e541a = L.popup({\n  &quot;maxWidth&quot;: &quot;100%&quot;,\n});\n\n        \n            \n                var html_656d74ad20fcfa911139098e5d19739a = $(`&lt;div id=&quot;html_656d74ad20fcfa911139098e5d19739a&quot; style=&quot;width: 100.0%; height: 100.0%;&quot;&gt;KSC LC-39A&lt;/div&gt;`)[0];\n                popup_fa36051544c5e36eee64924c293e541a.setContent(html_656d74ad20fcfa911139098e5d19739a);\n            \n        \n\n        marker_747922bca7173cb05656713ed5ccbe0b.bindPopup(popup_fa36051544c5e36eee64924c293e541a)\n        ;\n\n        \n    \n    \n            var marker_5a36fe3aa1f2dd910ee782c23efaf6a4 = L.marker(\n                [4.0, 4.0],\n                {\n}\n            ).addTo(marker_cluster_0f9b093f844f2cc5899633ba00c38242);\n        \n    \n            var icon_0431aea4c0c608688ea5bd1956672ce6 = L.AwesomeMarkers.icon(\n                {\n  &quot;markerColor&quot;: &quot;green&quot;,\n  &quot;iconColor&quot;: &quot;white&quot;,\n  &quot;icon&quot;: &quot;info-sign&quot;,\n  &quot;prefix&quot;: &quot;glyphicon&quot;,\n  &quot;extraClasses&quot;: &quot;fa-rotate-0&quot;,\n}\n            );\n            marker_5a36fe3aa1f2dd910ee782c23efaf6a4.setIcon(icon_0431aea4c0c608688ea5bd1956672ce6);\n        \n    \n        var popup_681b285a37a8b6da34b3be935d1ec8bf = L.popup({\n  &quot;maxWidth&quot;: &quot;100%&quot;,\n});\n\n        \n            \n                var html_1706a3b8206435d059d8bf08d049a399 = $(`&lt;div id=&quot;html_1706a3b8206435d059d8bf08d049a399&quot; style=&quot;width: 100.0%; height: 100.0%;&quot;&gt;VAFB SLC-4E&lt;/div&gt;`)[0];\n                popup_681b285a37a8b6da34b3be935d1ec8bf.setContent(html_1706a3b8206435d059d8bf08d049a399);\n            \n        \n\n        marker_5a36fe3aa1f2dd910ee782c23efaf6a4.bindPopup(popup_681b285a37a8b6da34b3be935d1ec8bf)\n        ;\n\n        \n    \n    \n            var marker_b5167cb526f2ac4009a695301a1b1b9d = L.marker(\n                [19.0, 19.0],\n                {\n}\n            ).addTo(marker_cluster_0f9b093f844f2cc5899633ba00c38242);\n        \n    \n            var icon_1c14612c58ec0d3b7dbeffd0cfffa966 = L.AwesomeMarkers.icon(\n                {\n  &quot;markerColor&quot;: &quot;red&quot;,\n  &quot;iconColor&quot;: &quot;white&quot;,\n  &quot;icon&quot;: &quot;info-sign&quot;,\n  &quot;prefix&quot;: &quot;glyphicon&quot;,\n  &quot;extraClasses&quot;: &quot;fa-rotate-0&quot;,\n}\n            );\n            marker_b5167cb526f2ac4009a695301a1b1b9d.setIcon(icon_1c14612c58ec0d3b7dbeffd0cfffa966);\n        \n    \n        var popup_0ea91725985024328dea346fdeb14069 = L.popup({\n  &quot;maxWidth&quot;: &quot;100%&quot;,\n});\n\n        \n            \n                var html_816c831a58a9ecf96bfa9f102e3cd612 = $(`&lt;div id=&quot;html_816c831a58a9ecf96bfa9f102e3cd612&quot; style=&quot;width: 100.0%; height: 100.0%;&quot;&gt;CCAFS LC-40&lt;/div&gt;`)[0];\n                popup_0ea91725985024328dea346fdeb14069.setContent(html_816c831a58a9ecf96bfa9f102e3cd612);\n            \n        \n\n        marker_b5167cb526f2ac4009a695301a1b1b9d.bindPopup(popup_0ea91725985024328dea346fdeb14069)\n        ;\n\n        \n    \n    \n            var marker_41d1e37128e8e85fe757b1f7626578b2 = L.marker(\n                [4.0, 4.0],\n                {\n}\n            ).addTo(marker_cluster_0f9b093f844f2cc5899633ba00c38242);\n        \n    \n            var icon_96c98a057294dd5b29b5a38581ca4974 = L.AwesomeMarkers.icon(\n                {\n  &quot;markerColor&quot;: &quot;red&quot;,\n  &quot;iconColor&quot;: &quot;white&quot;,\n  &quot;icon&quot;: &quot;info-sign&quot;,\n  &quot;prefix&quot;: &quot;glyphicon&quot;,\n  &quot;extraClasses&quot;: &quot;fa-rotate-0&quot;,\n}\n            );\n            marker_41d1e37128e8e85fe757b1f7626578b2.setIcon(icon_96c98a057294dd5b29b5a38581ca4974);\n        \n    \n        var popup_78d2dc83829c3abdd318c109cff6817c = L.popup({\n  &quot;maxWidth&quot;: &quot;100%&quot;,\n});\n\n        \n            \n                var html_366ea2637d385436f2523e065ddfba7d = $(`&lt;div id=&quot;html_366ea2637d385436f2523e065ddfba7d&quot; style=&quot;width: 100.0%; height: 100.0%;&quot;&gt;CCAFS SLC-40&lt;/div&gt;`)[0];\n                popup_78d2dc83829c3abdd318c109cff6817c.setContent(html_366ea2637d385436f2523e065ddfba7d);\n            \n        \n\n        marker_41d1e37128e8e85fe757b1f7626578b2.bindPopup(popup_78d2dc83829c3abdd318c109cff6817c)\n        ;\n\n        \n    \n    \n            var marker_d1e5c0bc4124998fdf3fe9a8eac3d1bc = L.marker(\n                [3.0, 3.0],\n                {\n}\n            ).addTo(marker_cluster_0f9b093f844f2cc5899633ba00c38242);\n        \n    \n            var icon_fbc8eca605c7af1d129adda3ebf63d37 = L.AwesomeMarkers.icon(\n                {\n  &quot;markerColor&quot;: &quot;red&quot;,\n  &quot;iconColor&quot;: &quot;white&quot;,\n  &quot;icon&quot;: &quot;info-sign&quot;,\n  &quot;prefix&quot;: &quot;glyphicon&quot;,\n  &quot;extraClasses&quot;: &quot;fa-rotate-0&quot;,\n}\n            );\n            marker_d1e5c0bc4124998fdf3fe9a8eac3d1bc.setIcon(icon_fbc8eca605c7af1d129adda3ebf63d37);\n        \n    \n        var popup_f64ae5109b757ab54f86588944c28aac = L.popup({\n  &quot;maxWidth&quot;: &quot;100%&quot;,\n});\n\n        \n            \n                var html_53e04f5145d7fb920bd3e790ccd5fdd9 = $(`&lt;div id=&quot;html_53e04f5145d7fb920bd3e790ccd5fdd9&quot; style=&quot;width: 100.0%; height: 100.0%;&quot;&gt;KSC LC-39A&lt;/div&gt;`)[0];\n                popup_f64ae5109b757ab54f86588944c28aac.setContent(html_53e04f5145d7fb920bd3e790ccd5fdd9);\n            \n        \n\n        marker_d1e5c0bc4124998fdf3fe9a8eac3d1bc.bindPopup(popup_f64ae5109b757ab54f86588944c28aac)\n        ;\n\n        \n    \n    \n            var marker_62832cdb437961fd89415beea76270c2 = L.marker(\n                [6.0, 6.0],\n                {\n}\n            ).addTo(marker_cluster_0f9b093f844f2cc5899633ba00c38242);\n        \n    \n            var icon_05f35c8dc4af6e936a2ae717cc5a39f2 = L.AwesomeMarkers.icon(\n                {\n  &quot;markerColor&quot;: &quot;red&quot;,\n  &quot;iconColor&quot;: &quot;white&quot;,\n  &quot;icon&quot;: &quot;info-sign&quot;,\n  &quot;prefix&quot;: &quot;glyphicon&quot;,\n  &quot;extraClasses&quot;: &quot;fa-rotate-0&quot;,\n}\n            );\n            marker_62832cdb437961fd89415beea76270c2.setIcon(icon_05f35c8dc4af6e936a2ae717cc5a39f2);\n        \n    \n        var popup_89c25509b459f0bdbb1457668285984b = L.popup({\n  &quot;maxWidth&quot;: &quot;100%&quot;,\n});\n\n        \n            \n                var html_5751c71ec2f8508697615d7cbf272c39 = $(`&lt;div id=&quot;html_5751c71ec2f8508697615d7cbf272c39&quot; style=&quot;width: 100.0%; height: 100.0%;&quot;&gt;VAFB SLC-4E&lt;/div&gt;`)[0];\n                popup_89c25509b459f0bdbb1457668285984b.setContent(html_5751c71ec2f8508697615d7cbf272c39);\n            \n        \n\n        marker_62832cdb437961fd89415beea76270c2.bindPopup(popup_89c25509b459f0bdbb1457668285984b)\n        ;\n\n        \n    \n    \n            marker_cluster_0f9b093f844f2cc5899633ba00c38242.addTo(map_86f6056452af90b6ea5a27804c681651);\n        \n    \n            tile_layer_c1f0b44be55b3c77a6d0bda784e8179d.addTo(map_86f6056452af90b6ea5a27804c681651);\n        \n    \n            marker_cluster_0f9b093f844f2cc5899633ba00c38242.addTo(map_86f6056452af90b6ea5a27804c681651);\n        \n    \n            var mouse_position_168763c6188edd7e5b440eaef9f4f8d7 = new L.Control.MousePosition(\n                {\n  &quot;position&quot;: &quot;topright&quot;,\n  &quot;separator&quot;: &quot; Long: &quot;,\n  &quot;emptyString&quot;: &quot;NaN&quot;,\n  &quot;lngFirst&quot;: false,\n  &quot;numDigits&quot;: 20,\n  &quot;prefix&quot;: &quot;Lat:&quot;,\n}\n            );\n            mouse_position_168763c6188edd7e5b440eaef9f4f8d7.options[&quot;latFormatter&quot;] =\n                function(num) {return L.Util.formatNum(num, 5);};;\n            mouse_position_168763c6188edd7e5b440eaef9f4f8d7.options[&quot;lngFormatter&quot;] =\n                function(num) {return L.Util.formatNum(num, 5);};;\n            map_86f6056452af90b6ea5a27804c681651.addControl(mouse_position_168763c6188edd7e5b440eaef9f4f8d7);\n        \n    \n            tile_layer_c1f0b44be55b3c77a6d0bda784e8179d.addTo(map_86f6056452af90b6ea5a27804c681651);\n        \n    \n            marker_cluster_0f9b093f844f2cc5899633ba00c38242.addTo(map_86f6056452af90b6ea5a27804c681651);\n        \n    \n            var mouse_position_d50194747364c23b492174533b9915f9 = new L.Control.MousePosition(\n                {\n  &quot;position&quot;: &quot;topright&quot;,\n  &quot;separator&quot;: &quot; Long: &quot;,\n  &quot;emptyString&quot;: &quot;NaN&quot;,\n  &quot;lngFirst&quot;: false,\n  &quot;numDigits&quot;: 20,\n  &quot;prefix&quot;: &quot;Lat:&quot;,\n}\n            );\n            mouse_position_d50194747364c23b492174533b9915f9.options[&quot;latFormatter&quot;] =\n                function(num) {return L.Util.formatNum(num, 5);};;\n            mouse_position_d50194747364c23b492174533b9915f9.options[&quot;lngFormatter&quot;] =\n                function(num) {return L.Util.formatNum(num, 5);};;\n            map_86f6056452af90b6ea5a27804c681651.addControl(mouse_position_d50194747364c23b492174533b9915f9);\n        \n    \n            tile_layer_c1f0b44be55b3c77a6d0bda784e8179d.addTo(map_86f6056452af90b6ea5a27804c681651);\n        \n    \n            marker_cluster_0f9b093f844f2cc5899633ba00c38242.addTo(map_86f6056452af90b6ea5a27804c681651);\n        \n    \n            var marker_584f3c5b15331c3b63aa74cfc6088b6f = L.marker(\n                [7.0, 7.0],\n                {\n}\n            ).addTo(marker_cluster_0f9b093f844f2cc5899633ba00c38242);\n        \n    \n            var icon_4c6afb7e31fef372858049e01eb3b9ed = L.AwesomeMarkers.icon(\n                {\n  &quot;markerColor&quot;: &quot;green&quot;,\n  &quot;iconColor&quot;: &quot;white&quot;,\n  &quot;icon&quot;: &quot;info-sign&quot;,\n  &quot;prefix&quot;: &quot;glyphicon&quot;,\n  &quot;extraClasses&quot;: &quot;fa-rotate-0&quot;,\n}\n            );\n            marker_584f3c5b15331c3b63aa74cfc6088b6f.setIcon(icon_4c6afb7e31fef372858049e01eb3b9ed);\n        \n    \n        var popup_d7e880829bdc2461ebccf70dbabf6485 = L.popup({\n  &quot;maxWidth&quot;: &quot;100%&quot;,\n});\n\n        \n            \n                var html_290727cef857a8971e9b3117672921ef = $(`&lt;div id=&quot;html_290727cef857a8971e9b3117672921ef&quot; style=&quot;width: 100.0%; height: 100.0%;&quot;&gt;CCAFS LC-40&lt;/div&gt;`)[0];\n                popup_d7e880829bdc2461ebccf70dbabf6485.setContent(html_290727cef857a8971e9b3117672921ef);\n            \n        \n\n        marker_584f3c5b15331c3b63aa74cfc6088b6f.bindPopup(popup_d7e880829bdc2461ebccf70dbabf6485)\n        ;\n\n        \n    \n    \n            var marker_03a47d822d2bb2c3bb76f906681f603c = L.marker(\n                [3.0, 3.0],\n                {\n}\n            ).addTo(marker_cluster_0f9b093f844f2cc5899633ba00c38242);\n        \n    \n            var icon_52058ab0bec7a1221d3869d7f7fd03e1 = L.AwesomeMarkers.icon(\n                {\n  &quot;markerColor&quot;: &quot;green&quot;,\n  &quot;iconColor&quot;: &quot;white&quot;,\n  &quot;icon&quot;: &quot;info-sign&quot;,\n  &quot;prefix&quot;: &quot;glyphicon&quot;,\n  &quot;extraClasses&quot;: &quot;fa-rotate-0&quot;,\n}\n            );\n            marker_03a47d822d2bb2c3bb76f906681f603c.setIcon(icon_52058ab0bec7a1221d3869d7f7fd03e1);\n        \n    \n        var popup_50df37833a1290c77424e6953689e826 = L.popup({\n  &quot;maxWidth&quot;: &quot;100%&quot;,\n});\n\n        \n            \n                var html_89ddda102a67ff0efcac5d0802a9fc35 = $(`&lt;div id=&quot;html_89ddda102a67ff0efcac5d0802a9fc35&quot; style=&quot;width: 100.0%; height: 100.0%;&quot;&gt;CCAFS SLC-40&lt;/div&gt;`)[0];\n                popup_50df37833a1290c77424e6953689e826.setContent(html_89ddda102a67ff0efcac5d0802a9fc35);\n            \n        \n\n        marker_03a47d822d2bb2c3bb76f906681f603c.bindPopup(popup_50df37833a1290c77424e6953689e826)\n        ;\n\n        \n    \n    \n            var marker_b3296654b46a1c6175e9a30c6b0ad6e3 = L.marker(\n                [10.0, 10.0],\n                {\n}\n            ).addTo(marker_cluster_0f9b093f844f2cc5899633ba00c38242);\n        \n    \n            var icon_2c2e883467ad18b285b152a66d113708 = L.AwesomeMarkers.icon(\n                {\n  &quot;markerColor&quot;: &quot;green&quot;,\n  &quot;iconColor&quot;: &quot;white&quot;,\n  &quot;icon&quot;: &quot;info-sign&quot;,\n  &quot;prefix&quot;: &quot;glyphicon&quot;,\n  &quot;extraClasses&quot;: &quot;fa-rotate-0&quot;,\n}\n            );\n            marker_b3296654b46a1c6175e9a30c6b0ad6e3.setIcon(icon_2c2e883467ad18b285b152a66d113708);\n        \n    \n        var popup_81ef0c35fb9d2b7a28e6f99395b36ee8 = L.popup({\n  &quot;maxWidth&quot;: &quot;100%&quot;,\n});\n\n        \n            \n                var html_3ab7de715bd5e6a66ad2d38bb8c40014 = $(`&lt;div id=&quot;html_3ab7de715bd5e6a66ad2d38bb8c40014&quot; style=&quot;width: 100.0%; height: 100.0%;&quot;&gt;KSC LC-39A&lt;/div&gt;`)[0];\n                popup_81ef0c35fb9d2b7a28e6f99395b36ee8.setContent(html_3ab7de715bd5e6a66ad2d38bb8c40014);\n            \n        \n\n        marker_b3296654b46a1c6175e9a30c6b0ad6e3.bindPopup(popup_81ef0c35fb9d2b7a28e6f99395b36ee8)\n        ;\n\n        \n    \n    \n            var marker_c3ef1e24f8487646cb75707b9eb20440 = L.marker(\n                [4.0, 4.0],\n                {\n}\n            ).addTo(marker_cluster_0f9b093f844f2cc5899633ba00c38242);\n        \n    \n            var icon_401c17937f0cb61dcb7fabc565db26e9 = L.AwesomeMarkers.icon(\n                {\n  &quot;markerColor&quot;: &quot;green&quot;,\n  &quot;iconColor&quot;: &quot;white&quot;,\n  &quot;icon&quot;: &quot;info-sign&quot;,\n  &quot;prefix&quot;: &quot;glyphicon&quot;,\n  &quot;extraClasses&quot;: &quot;fa-rotate-0&quot;,\n}\n            );\n            marker_c3ef1e24f8487646cb75707b9eb20440.setIcon(icon_401c17937f0cb61dcb7fabc565db26e9);\n        \n    \n        var popup_25ae748a7c52231c0418dc54e3452a4d = L.popup({\n  &quot;maxWidth&quot;: &quot;100%&quot;,\n});\n\n        \n            \n                var html_b6e3820100db27fa4e431726fae4a1ac = $(`&lt;div id=&quot;html_b6e3820100db27fa4e431726fae4a1ac&quot; style=&quot;width: 100.0%; height: 100.0%;&quot;&gt;VAFB SLC-4E&lt;/div&gt;`)[0];\n                popup_25ae748a7c52231c0418dc54e3452a4d.setContent(html_b6e3820100db27fa4e431726fae4a1ac);\n            \n        \n\n        marker_c3ef1e24f8487646cb75707b9eb20440.bindPopup(popup_25ae748a7c52231c0418dc54e3452a4d)\n        ;\n\n        \n    \n    \n            var marker_d873339a86b4a7a93c42e54b58efef41 = L.marker(\n                [19.0, 19.0],\n                {\n}\n            ).addTo(marker_cluster_0f9b093f844f2cc5899633ba00c38242);\n        \n    \n            var icon_29a9b0d018c9f2e111db58b334f1aff5 = L.AwesomeMarkers.icon(\n                {\n  &quot;markerColor&quot;: &quot;red&quot;,\n  &quot;iconColor&quot;: &quot;white&quot;,\n  &quot;icon&quot;: &quot;info-sign&quot;,\n  &quot;prefix&quot;: &quot;glyphicon&quot;,\n  &quot;extraClasses&quot;: &quot;fa-rotate-0&quot;,\n}\n            );\n            marker_d873339a86b4a7a93c42e54b58efef41.setIcon(icon_29a9b0d018c9f2e111db58b334f1aff5);\n        \n    \n        var popup_634f892a7606c83a1dfac529da70a2c9 = L.popup({\n  &quot;maxWidth&quot;: &quot;100%&quot;,\n});\n\n        \n            \n                var html_ad4061f70f7f8baaff3ce46859536cee = $(`&lt;div id=&quot;html_ad4061f70f7f8baaff3ce46859536cee&quot; style=&quot;width: 100.0%; height: 100.0%;&quot;&gt;CCAFS LC-40&lt;/div&gt;`)[0];\n                popup_634f892a7606c83a1dfac529da70a2c9.setContent(html_ad4061f70f7f8baaff3ce46859536cee);\n            \n        \n\n        marker_d873339a86b4a7a93c42e54b58efef41.bindPopup(popup_634f892a7606c83a1dfac529da70a2c9)\n        ;\n\n        \n    \n    \n            var marker_e8a703e97ff39d3d2dd39232cf26b7cd = L.marker(\n                [4.0, 4.0],\n                {\n}\n            ).addTo(marker_cluster_0f9b093f844f2cc5899633ba00c38242);\n        \n    \n            var icon_c9e88a9bb031bab261caae931870b3c7 = L.AwesomeMarkers.icon(\n                {\n  &quot;markerColor&quot;: &quot;red&quot;,\n  &quot;iconColor&quot;: &quot;white&quot;,\n  &quot;icon&quot;: &quot;info-sign&quot;,\n  &quot;prefix&quot;: &quot;glyphicon&quot;,\n  &quot;extraClasses&quot;: &quot;fa-rotate-0&quot;,\n}\n            );\n            marker_e8a703e97ff39d3d2dd39232cf26b7cd.setIcon(icon_c9e88a9bb031bab261caae931870b3c7);\n        \n    \n        var popup_dbe76970133363e7736408ee729f3d69 = L.popup({\n  &quot;maxWidth&quot;: &quot;100%&quot;,\n});\n\n        \n            \n                var html_717aaca3f7e0f16b25eb593112718e81 = $(`&lt;div id=&quot;html_717aaca3f7e0f16b25eb593112718e81&quot; style=&quot;width: 100.0%; height: 100.0%;&quot;&gt;CCAFS SLC-40&lt;/div&gt;`)[0];\n                popup_dbe76970133363e7736408ee729f3d69.setContent(html_717aaca3f7e0f16b25eb593112718e81);\n            \n        \n\n        marker_e8a703e97ff39d3d2dd39232cf26b7cd.bindPopup(popup_dbe76970133363e7736408ee729f3d69)\n        ;\n\n        \n    \n    \n            var marker_71ac492d2d53630a5be6c756587ec00a = L.marker(\n                [3.0, 3.0],\n                {\n}\n            ).addTo(marker_cluster_0f9b093f844f2cc5899633ba00c38242);\n        \n    \n            var icon_ef9945091b1adb34fb622414bc60300a = L.AwesomeMarkers.icon(\n                {\n  &quot;markerColor&quot;: &quot;red&quot;,\n  &quot;iconColor&quot;: &quot;white&quot;,\n  &quot;icon&quot;: &quot;info-sign&quot;,\n  &quot;prefix&quot;: &quot;glyphicon&quot;,\n  &quot;extraClasses&quot;: &quot;fa-rotate-0&quot;,\n}\n            );\n            marker_71ac492d2d53630a5be6c756587ec00a.setIcon(icon_ef9945091b1adb34fb622414bc60300a);\n        \n    \n        var popup_0c2f549ad13ea0e38e0a35b8ae9083f8 = L.popup({\n  &quot;maxWidth&quot;: &quot;100%&quot;,\n});\n\n        \n            \n                var html_0128c1580609eb772e844704b56b4239 = $(`&lt;div id=&quot;html_0128c1580609eb772e844704b56b4239&quot; style=&quot;width: 100.0%; height: 100.0%;&quot;&gt;KSC LC-39A&lt;/div&gt;`)[0];\n                popup_0c2f549ad13ea0e38e0a35b8ae9083f8.setContent(html_0128c1580609eb772e844704b56b4239);\n            \n        \n\n        marker_71ac492d2d53630a5be6c756587ec00a.bindPopup(popup_0c2f549ad13ea0e38e0a35b8ae9083f8)\n        ;\n\n        \n    \n    \n            var marker_d5d90f0e866efc27f23ca022d4628a49 = L.marker(\n                [6.0, 6.0],\n                {\n}\n            ).addTo(marker_cluster_0f9b093f844f2cc5899633ba00c38242);\n        \n    \n            var icon_bdb2d91ed7ce733e1e0f0071f01d9d44 = L.AwesomeMarkers.icon(\n                {\n  &quot;markerColor&quot;: &quot;red&quot;,\n  &quot;iconColor&quot;: &quot;white&quot;,\n  &quot;icon&quot;: &quot;info-sign&quot;,\n  &quot;prefix&quot;: &quot;glyphicon&quot;,\n  &quot;extraClasses&quot;: &quot;fa-rotate-0&quot;,\n}\n            );\n            marker_d5d90f0e866efc27f23ca022d4628a49.setIcon(icon_bdb2d91ed7ce733e1e0f0071f01d9d44);\n        \n    \n        var popup_ab84f3f37031157c2fe3784a043df115 = L.popup({\n  &quot;maxWidth&quot;: &quot;100%&quot;,\n});\n\n        \n            \n                var html_25e372fd65d3835449a2289bc0e263d1 = $(`&lt;div id=&quot;html_25e372fd65d3835449a2289bc0e263d1&quot; style=&quot;width: 100.0%; height: 100.0%;&quot;&gt;VAFB SLC-4E&lt;/div&gt;`)[0];\n                popup_ab84f3f37031157c2fe3784a043df115.setContent(html_25e372fd65d3835449a2289bc0e263d1);\n            \n        \n\n        marker_d5d90f0e866efc27f23ca022d4628a49.bindPopup(popup_ab84f3f37031157c2fe3784a043df115)\n        ;\n\n        \n    \n&lt;/script&gt;\n&lt;/html&gt;\" style=\"position:absolute;width:100%;height:100%;left:0;top:0;border:none !important;\" allowfullscreen webkitallowfullscreen mozallowfullscreen></iframe></div></div>"
          },
          "metadata": {}
        }
      ],
      "execution_count": 20
    },
    {
      "cell_type": "code",
      "source": "# Create and add a folium.Marker on your selected closest coastline point on the map\n# Display the distance between coastline point and launch site using the icon property \n# for example\n# distance_marker = folium.Marker(\n#    coordinate,\n#    icon=DivIcon(\n#        icon_size=(20,20),\n#        icon_anchor=(0,0),\n#        html='<div style=\"font-size: 12; color:#d35400;\"><b>%s</b></div>' % \"{:10.2f} KM\".format(distance),\n#        )\n#    )",
      "metadata": {},
      "outputs": [],
      "execution_count": null
    },
    {
      "cell_type": "markdown",
      "source": "*TODO:* Draw a `PolyLine` between a launch site to the selected coastline point\n",
      "metadata": {}
    },
    {
      "cell_type": "code",
      "source": "# Create a `folium.PolyLine` object using the coastline coordinates and launch site coordinate\n# lines=folium.PolyLine(locations=coordinates, weight=1)\nsite_map.add_child(lines)",
      "metadata": {},
      "outputs": [],
      "execution_count": null
    },
    {
      "cell_type": "markdown",
      "source": "Your updated map with distance line should look like the following screenshot:\n",
      "metadata": {}
    },
    {
      "cell_type": "markdown",
      "source": "<center>\n    <img src=\"https://cf-courses-data.s3.us.cloud-object-storage.appdomain.cloud/IBM-DS0321EN-SkillsNetwork/labs/module_3/images/launch_site_marker_distance.png\">\n</center>\n",
      "metadata": {}
    },
    {
      "cell_type": "markdown",
      "source": "*TODO:* Similarly, you can draw a line betwee a launch site to its closest city, railway, highway, etc. You need to use `MousePosition` to find the their coordinates on the map first\n",
      "metadata": {}
    },
    {
      "cell_type": "markdown",
      "source": "A railway map symbol may look like this:\n",
      "metadata": {}
    },
    {
      "cell_type": "markdown",
      "source": "<center>\n    <img src=\"https://cf-courses-data.s3.us.cloud-object-storage.appdomain.cloud/IBM-DS0321EN-SkillsNetwork/labs/module_3/images/railway.png\">\n</center>\n",
      "metadata": {}
    },
    {
      "cell_type": "markdown",
      "source": "A highway map symbol may look like this:\n",
      "metadata": {}
    },
    {
      "cell_type": "markdown",
      "source": "<center>\n    <img src=\"https://cf-courses-data.s3.us.cloud-object-storage.appdomain.cloud/IBM-DS0321EN-SkillsNetwork/labs/module_3/images/highway.png\">\n</center>\n",
      "metadata": {}
    },
    {
      "cell_type": "markdown",
      "source": "A city map symbol may look like this:\n",
      "metadata": {}
    },
    {
      "cell_type": "markdown",
      "source": "<center>\n    <img src=\"https://cf-courses-data.s3.us.cloud-object-storage.appdomain.cloud/IBM-DS0321EN-SkillsNetwork/labs/module_3/images/city.png\">\n</center>\n",
      "metadata": {}
    },
    {
      "cell_type": "code",
      "source": "# Create a marker with distance to a closest city, railway, highway, etc.\n# Draw a line between the marker to the launch site\n",
      "metadata": {},
      "outputs": [],
      "execution_count": null
    },
    {
      "cell_type": "code",
      "source": "",
      "metadata": {},
      "outputs": [],
      "execution_count": null
    },
    {
      "cell_type": "code",
      "source": "",
      "metadata": {},
      "outputs": [],
      "execution_count": null
    },
    {
      "cell_type": "markdown",
      "source": "After you plot distance lines to the proximities, you can answer the following questions easily:\n\n*   Are launch sites in close proximity to railways?\n*   Are launch sites in close proximity to highways?\n*   Are launch sites in close proximity to coastline?\n*   Do launch sites keep certain distance away from cities?\n\nAlso please try to explain your findings.\n",
      "metadata": {}
    },
    {
      "cell_type": "markdown",
      "source": "# Next Steps:\n\nNow you have discovered many interesting insights related to the launch sites' location using folium, in a very interactive way. Next, you will need to build a dashboard using Ploty Dash on detailed launch records.\n",
      "metadata": {}
    },
    {
      "cell_type": "markdown",
      "source": "## Authors\n",
      "metadata": {}
    },
    {
      "cell_type": "markdown",
      "source": "[Pratiksha Verma](https://www.linkedin.com/in/pratiksha-verma-6487561b1/)\n",
      "metadata": {}
    },
    {
      "cell_type": "markdown",
      "source": "<!--## Change Log--!>\n",
      "metadata": {}
    },
    {
      "cell_type": "markdown",
      "source": "<!--| Date (YYYY-MM-DD) | Version | Changed By      | Change Description      |\n| ----------------- | ------- | -------------   | ----------------------- |\n| 2022-11-09        | 1.0     | Pratiksha Verma | Converted initial version to Jupyterlite|--!>\n",
      "metadata": {}
    },
    {
      "cell_type": "markdown",
      "source": "### <h3 align=\"center\"> IBM Corporation 2022. All rights reserved. <h3/>\n",
      "metadata": {}
    }
  ]
}